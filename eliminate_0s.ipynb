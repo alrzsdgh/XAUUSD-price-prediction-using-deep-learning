{
  "nbformat": 4,
  "nbformat_minor": 0,
  "metadata": {
    "colab": {
      "name": "eliminate_0s.ipynb",
      "provenance": [],
      "collapsed_sections": []
    },
    "kernelspec": {
      "name": "python3",
      "display_name": "Python 3"
    },
    "language_info": {
      "name": "python"
    },
    "accelerator": "GPU",
    "gpuClass": "standard"
  },
  "cells": [
    {
      "cell_type": "code",
      "execution_count": 1,
      "metadata": {
        "id": "cnXMiViv6Mxd"
      },
      "outputs": [],
      "source": [
        "import numpy as np\n",
        "import os\n",
        "import pandas as pd\n",
        "import matplotlib.pyplot as plt\n",
        "from tqdm import tqdm\n",
        "import random\n",
        "\n",
        "import tensorflow as tf\n",
        "import shutil"
      ]
    },
    {
      "cell_type": "code",
      "source": [
        "data_dir = '/content/drive/MyDrive/XAUUSD_Candlestick_5_M_BID_01.01.2022-06.08.2022.csv'\n",
        "df = pd .read_csv(data_dir)\n",
        "\n",
        "print(df.shape)\n",
        "df.tail()"
      ],
      "metadata": {
        "colab": {
          "base_uri": "https://localhost:8080/",
          "height": 224
        },
        "id": "28UMVlaR6XA8",
        "outputId": "458d36da-ce70-47db-fa30-986270865f53"
      },
      "execution_count": 2,
      "outputs": [
        {
          "output_type": "stream",
          "name": "stdout",
          "text": [
            "(62772, 6)\n"
          ]
        },
        {
          "output_type": "execute_result",
          "data": {
            "text/plain": [
              "                             Local time      Open      High       Low  \\\n",
              "62767  06.08.2022 23:35:00.000 GMT+0430  1774.718  1774.718  1774.718   \n",
              "62768  06.08.2022 23:40:00.000 GMT+0430  1774.718  1774.718  1774.718   \n",
              "62769  06.08.2022 23:45:00.000 GMT+0430  1774.718  1774.718  1774.718   \n",
              "62770  06.08.2022 23:50:00.000 GMT+0430  1774.718  1774.718  1774.718   \n",
              "62771  06.08.2022 23:55:00.000 GMT+0430  1774.718  1774.718  1774.718   \n",
              "\n",
              "          Close  Volume  \n",
              "62767  1774.718     0.0  \n",
              "62768  1774.718     0.0  \n",
              "62769  1774.718     0.0  \n",
              "62770  1774.718     0.0  \n",
              "62771  1774.718     0.0  "
            ],
            "text/html": [
              "\n",
              "  <div id=\"df-f32da2b9-a07f-4484-a616-b24332a35d18\">\n",
              "    <div class=\"colab-df-container\">\n",
              "      <div>\n",
              "<style scoped>\n",
              "    .dataframe tbody tr th:only-of-type {\n",
              "        vertical-align: middle;\n",
              "    }\n",
              "\n",
              "    .dataframe tbody tr th {\n",
              "        vertical-align: top;\n",
              "    }\n",
              "\n",
              "    .dataframe thead th {\n",
              "        text-align: right;\n",
              "    }\n",
              "</style>\n",
              "<table border=\"1\" class=\"dataframe\">\n",
              "  <thead>\n",
              "    <tr style=\"text-align: right;\">\n",
              "      <th></th>\n",
              "      <th>Local time</th>\n",
              "      <th>Open</th>\n",
              "      <th>High</th>\n",
              "      <th>Low</th>\n",
              "      <th>Close</th>\n",
              "      <th>Volume</th>\n",
              "    </tr>\n",
              "  </thead>\n",
              "  <tbody>\n",
              "    <tr>\n",
              "      <th>62767</th>\n",
              "      <td>06.08.2022 23:35:00.000 GMT+0430</td>\n",
              "      <td>1774.718</td>\n",
              "      <td>1774.718</td>\n",
              "      <td>1774.718</td>\n",
              "      <td>1774.718</td>\n",
              "      <td>0.0</td>\n",
              "    </tr>\n",
              "    <tr>\n",
              "      <th>62768</th>\n",
              "      <td>06.08.2022 23:40:00.000 GMT+0430</td>\n",
              "      <td>1774.718</td>\n",
              "      <td>1774.718</td>\n",
              "      <td>1774.718</td>\n",
              "      <td>1774.718</td>\n",
              "      <td>0.0</td>\n",
              "    </tr>\n",
              "    <tr>\n",
              "      <th>62769</th>\n",
              "      <td>06.08.2022 23:45:00.000 GMT+0430</td>\n",
              "      <td>1774.718</td>\n",
              "      <td>1774.718</td>\n",
              "      <td>1774.718</td>\n",
              "      <td>1774.718</td>\n",
              "      <td>0.0</td>\n",
              "    </tr>\n",
              "    <tr>\n",
              "      <th>62770</th>\n",
              "      <td>06.08.2022 23:50:00.000 GMT+0430</td>\n",
              "      <td>1774.718</td>\n",
              "      <td>1774.718</td>\n",
              "      <td>1774.718</td>\n",
              "      <td>1774.718</td>\n",
              "      <td>0.0</td>\n",
              "    </tr>\n",
              "    <tr>\n",
              "      <th>62771</th>\n",
              "      <td>06.08.2022 23:55:00.000 GMT+0430</td>\n",
              "      <td>1774.718</td>\n",
              "      <td>1774.718</td>\n",
              "      <td>1774.718</td>\n",
              "      <td>1774.718</td>\n",
              "      <td>0.0</td>\n",
              "    </tr>\n",
              "  </tbody>\n",
              "</table>\n",
              "</div>\n",
              "      <button class=\"colab-df-convert\" onclick=\"convertToInteractive('df-f32da2b9-a07f-4484-a616-b24332a35d18')\"\n",
              "              title=\"Convert this dataframe to an interactive table.\"\n",
              "              style=\"display:none;\">\n",
              "        \n",
              "  <svg xmlns=\"http://www.w3.org/2000/svg\" height=\"24px\"viewBox=\"0 0 24 24\"\n",
              "       width=\"24px\">\n",
              "    <path d=\"M0 0h24v24H0V0z\" fill=\"none\"/>\n",
              "    <path d=\"M18.56 5.44l.94 2.06.94-2.06 2.06-.94-2.06-.94-.94-2.06-.94 2.06-2.06.94zm-11 1L8.5 8.5l.94-2.06 2.06-.94-2.06-.94L8.5 2.5l-.94 2.06-2.06.94zm10 10l.94 2.06.94-2.06 2.06-.94-2.06-.94-.94-2.06-.94 2.06-2.06.94z\"/><path d=\"M17.41 7.96l-1.37-1.37c-.4-.4-.92-.59-1.43-.59-.52 0-1.04.2-1.43.59L10.3 9.45l-7.72 7.72c-.78.78-.78 2.05 0 2.83L4 21.41c.39.39.9.59 1.41.59.51 0 1.02-.2 1.41-.59l7.78-7.78 2.81-2.81c.8-.78.8-2.07 0-2.86zM5.41 20L4 18.59l7.72-7.72 1.47 1.35L5.41 20z\"/>\n",
              "  </svg>\n",
              "      </button>\n",
              "      \n",
              "  <style>\n",
              "    .colab-df-container {\n",
              "      display:flex;\n",
              "      flex-wrap:wrap;\n",
              "      gap: 12px;\n",
              "    }\n",
              "\n",
              "    .colab-df-convert {\n",
              "      background-color: #E8F0FE;\n",
              "      border: none;\n",
              "      border-radius: 50%;\n",
              "      cursor: pointer;\n",
              "      display: none;\n",
              "      fill: #1967D2;\n",
              "      height: 32px;\n",
              "      padding: 0 0 0 0;\n",
              "      width: 32px;\n",
              "    }\n",
              "\n",
              "    .colab-df-convert:hover {\n",
              "      background-color: #E2EBFA;\n",
              "      box-shadow: 0px 1px 2px rgba(60, 64, 67, 0.3), 0px 1px 3px 1px rgba(60, 64, 67, 0.15);\n",
              "      fill: #174EA6;\n",
              "    }\n",
              "\n",
              "    [theme=dark] .colab-df-convert {\n",
              "      background-color: #3B4455;\n",
              "      fill: #D2E3FC;\n",
              "    }\n",
              "\n",
              "    [theme=dark] .colab-df-convert:hover {\n",
              "      background-color: #434B5C;\n",
              "      box-shadow: 0px 1px 3px 1px rgba(0, 0, 0, 0.15);\n",
              "      filter: drop-shadow(0px 1px 2px rgba(0, 0, 0, 0.3));\n",
              "      fill: #FFFFFF;\n",
              "    }\n",
              "  </style>\n",
              "\n",
              "      <script>\n",
              "        const buttonEl =\n",
              "          document.querySelector('#df-f32da2b9-a07f-4484-a616-b24332a35d18 button.colab-df-convert');\n",
              "        buttonEl.style.display =\n",
              "          google.colab.kernel.accessAllowed ? 'block' : 'none';\n",
              "\n",
              "        async function convertToInteractive(key) {\n",
              "          const element = document.querySelector('#df-f32da2b9-a07f-4484-a616-b24332a35d18');\n",
              "          const dataTable =\n",
              "            await google.colab.kernel.invokeFunction('convertToInteractive',\n",
              "                                                     [key], {});\n",
              "          if (!dataTable) return;\n",
              "\n",
              "          const docLinkHtml = 'Like what you see? Visit the ' +\n",
              "            '<a target=\"_blank\" href=https://colab.research.google.com/notebooks/data_table.ipynb>data table notebook</a>'\n",
              "            + ' to learn more about interactive tables.';\n",
              "          element.innerHTML = '';\n",
              "          dataTable['output_type'] = 'display_data';\n",
              "          await google.colab.output.renderOutput(dataTable, element);\n",
              "          const docLink = document.createElement('div');\n",
              "          docLink.innerHTML = docLinkHtml;\n",
              "          element.appendChild(docLink);\n",
              "        }\n",
              "      </script>\n",
              "    </div>\n",
              "  </div>\n",
              "  "
            ]
          },
          "metadata": {},
          "execution_count": 2
        }
      ]
    },
    {
      "cell_type": "code",
      "source": [
        "new_df = df[df['Volume'] != 0]\n",
        "print(new_df.shape)\n",
        "new_df.head()"
      ],
      "metadata": {
        "colab": {
          "base_uri": "https://localhost:8080/",
          "height": 224
        },
        "id": "1OWWJAAK8-dj",
        "outputId": "68b0d098-a353-415a-daa8-60a4183159d9"
      },
      "execution_count": 3,
      "outputs": [
        {
          "output_type": "stream",
          "name": "stdout",
          "text": [
            "(42354, 6)\n"
          ]
        },
        {
          "output_type": "execute_result",
          "data": {
            "text/plain": [
              "                         Local time      Open      High       Low     Close  \\\n",
              "0  01.01.2022 00:00:00.000 GMT+0330  1828.478  1828.624  1828.434  1828.514   \n",
              "1  01.01.2022 00:05:00.000 GMT+0330  1828.514  1829.054  1828.468  1828.984   \n",
              "2  01.01.2022 00:10:00.000 GMT+0330  1828.984  1829.128  1828.718  1828.964   \n",
              "3  01.01.2022 00:15:00.000 GMT+0330  1828.964  1829.608  1828.934  1829.528   \n",
              "4  01.01.2022 00:20:00.000 GMT+0330  1829.554  1830.248  1829.454  1829.898   \n",
              "\n",
              "       Volume  \n",
              "0  40399.9994  \n",
              "1  58690.0013  \n",
              "2  29900.0003  \n",
              "3  53070.0003  \n",
              "4  75590.0014  "
            ],
            "text/html": [
              "\n",
              "  <div id=\"df-7b54dd0e-7ea6-4eb6-aeef-57404835d9ed\">\n",
              "    <div class=\"colab-df-container\">\n",
              "      <div>\n",
              "<style scoped>\n",
              "    .dataframe tbody tr th:only-of-type {\n",
              "        vertical-align: middle;\n",
              "    }\n",
              "\n",
              "    .dataframe tbody tr th {\n",
              "        vertical-align: top;\n",
              "    }\n",
              "\n",
              "    .dataframe thead th {\n",
              "        text-align: right;\n",
              "    }\n",
              "</style>\n",
              "<table border=\"1\" class=\"dataframe\">\n",
              "  <thead>\n",
              "    <tr style=\"text-align: right;\">\n",
              "      <th></th>\n",
              "      <th>Local time</th>\n",
              "      <th>Open</th>\n",
              "      <th>High</th>\n",
              "      <th>Low</th>\n",
              "      <th>Close</th>\n",
              "      <th>Volume</th>\n",
              "    </tr>\n",
              "  </thead>\n",
              "  <tbody>\n",
              "    <tr>\n",
              "      <th>0</th>\n",
              "      <td>01.01.2022 00:00:00.000 GMT+0330</td>\n",
              "      <td>1828.478</td>\n",
              "      <td>1828.624</td>\n",
              "      <td>1828.434</td>\n",
              "      <td>1828.514</td>\n",
              "      <td>40399.9994</td>\n",
              "    </tr>\n",
              "    <tr>\n",
              "      <th>1</th>\n",
              "      <td>01.01.2022 00:05:00.000 GMT+0330</td>\n",
              "      <td>1828.514</td>\n",
              "      <td>1829.054</td>\n",
              "      <td>1828.468</td>\n",
              "      <td>1828.984</td>\n",
              "      <td>58690.0013</td>\n",
              "    </tr>\n",
              "    <tr>\n",
              "      <th>2</th>\n",
              "      <td>01.01.2022 00:10:00.000 GMT+0330</td>\n",
              "      <td>1828.984</td>\n",
              "      <td>1829.128</td>\n",
              "      <td>1828.718</td>\n",
              "      <td>1828.964</td>\n",
              "      <td>29900.0003</td>\n",
              "    </tr>\n",
              "    <tr>\n",
              "      <th>3</th>\n",
              "      <td>01.01.2022 00:15:00.000 GMT+0330</td>\n",
              "      <td>1828.964</td>\n",
              "      <td>1829.608</td>\n",
              "      <td>1828.934</td>\n",
              "      <td>1829.528</td>\n",
              "      <td>53070.0003</td>\n",
              "    </tr>\n",
              "    <tr>\n",
              "      <th>4</th>\n",
              "      <td>01.01.2022 00:20:00.000 GMT+0330</td>\n",
              "      <td>1829.554</td>\n",
              "      <td>1830.248</td>\n",
              "      <td>1829.454</td>\n",
              "      <td>1829.898</td>\n",
              "      <td>75590.0014</td>\n",
              "    </tr>\n",
              "  </tbody>\n",
              "</table>\n",
              "</div>\n",
              "      <button class=\"colab-df-convert\" onclick=\"convertToInteractive('df-7b54dd0e-7ea6-4eb6-aeef-57404835d9ed')\"\n",
              "              title=\"Convert this dataframe to an interactive table.\"\n",
              "              style=\"display:none;\">\n",
              "        \n",
              "  <svg xmlns=\"http://www.w3.org/2000/svg\" height=\"24px\"viewBox=\"0 0 24 24\"\n",
              "       width=\"24px\">\n",
              "    <path d=\"M0 0h24v24H0V0z\" fill=\"none\"/>\n",
              "    <path d=\"M18.56 5.44l.94 2.06.94-2.06 2.06-.94-2.06-.94-.94-2.06-.94 2.06-2.06.94zm-11 1L8.5 8.5l.94-2.06 2.06-.94-2.06-.94L8.5 2.5l-.94 2.06-2.06.94zm10 10l.94 2.06.94-2.06 2.06-.94-2.06-.94-.94-2.06-.94 2.06-2.06.94z\"/><path d=\"M17.41 7.96l-1.37-1.37c-.4-.4-.92-.59-1.43-.59-.52 0-1.04.2-1.43.59L10.3 9.45l-7.72 7.72c-.78.78-.78 2.05 0 2.83L4 21.41c.39.39.9.59 1.41.59.51 0 1.02-.2 1.41-.59l7.78-7.78 2.81-2.81c.8-.78.8-2.07 0-2.86zM5.41 20L4 18.59l7.72-7.72 1.47 1.35L5.41 20z\"/>\n",
              "  </svg>\n",
              "      </button>\n",
              "      \n",
              "  <style>\n",
              "    .colab-df-container {\n",
              "      display:flex;\n",
              "      flex-wrap:wrap;\n",
              "      gap: 12px;\n",
              "    }\n",
              "\n",
              "    .colab-df-convert {\n",
              "      background-color: #E8F0FE;\n",
              "      border: none;\n",
              "      border-radius: 50%;\n",
              "      cursor: pointer;\n",
              "      display: none;\n",
              "      fill: #1967D2;\n",
              "      height: 32px;\n",
              "      padding: 0 0 0 0;\n",
              "      width: 32px;\n",
              "    }\n",
              "\n",
              "    .colab-df-convert:hover {\n",
              "      background-color: #E2EBFA;\n",
              "      box-shadow: 0px 1px 2px rgba(60, 64, 67, 0.3), 0px 1px 3px 1px rgba(60, 64, 67, 0.15);\n",
              "      fill: #174EA6;\n",
              "    }\n",
              "\n",
              "    [theme=dark] .colab-df-convert {\n",
              "      background-color: #3B4455;\n",
              "      fill: #D2E3FC;\n",
              "    }\n",
              "\n",
              "    [theme=dark] .colab-df-convert:hover {\n",
              "      background-color: #434B5C;\n",
              "      box-shadow: 0px 1px 3px 1px rgba(0, 0, 0, 0.15);\n",
              "      filter: drop-shadow(0px 1px 2px rgba(0, 0, 0, 0.3));\n",
              "      fill: #FFFFFF;\n",
              "    }\n",
              "  </style>\n",
              "\n",
              "      <script>\n",
              "        const buttonEl =\n",
              "          document.querySelector('#df-7b54dd0e-7ea6-4eb6-aeef-57404835d9ed button.colab-df-convert');\n",
              "        buttonEl.style.display =\n",
              "          google.colab.kernel.accessAllowed ? 'block' : 'none';\n",
              "\n",
              "        async function convertToInteractive(key) {\n",
              "          const element = document.querySelector('#df-7b54dd0e-7ea6-4eb6-aeef-57404835d9ed');\n",
              "          const dataTable =\n",
              "            await google.colab.kernel.invokeFunction('convertToInteractive',\n",
              "                                                     [key], {});\n",
              "          if (!dataTable) return;\n",
              "\n",
              "          const docLinkHtml = 'Like what you see? Visit the ' +\n",
              "            '<a target=\"_blank\" href=https://colab.research.google.com/notebooks/data_table.ipynb>data table notebook</a>'\n",
              "            + ' to learn more about interactive tables.';\n",
              "          element.innerHTML = '';\n",
              "          dataTable['output_type'] = 'display_data';\n",
              "          await google.colab.output.renderOutput(dataTable, element);\n",
              "          const docLink = document.createElement('div');\n",
              "          docLink.innerHTML = docLinkHtml;\n",
              "          element.appendChild(docLink);\n",
              "        }\n",
              "      </script>\n",
              "    </div>\n",
              "  </div>\n",
              "  "
            ]
          },
          "metadata": {},
          "execution_count": 3
        }
      ]
    },
    {
      "cell_type": "code",
      "source": [
        "inp_arr = np.array(new_df['Close'])\n",
        "\n",
        "print('Shape:', np.shape(inp_arr))"
      ],
      "metadata": {
        "colab": {
          "base_uri": "https://localhost:8080/"
        },
        "id": "uyraxhd39a8k",
        "outputId": "201cf394-2a58-49c0-95e3-25cd116ed1fa"
      },
      "execution_count": 17,
      "outputs": [
        {
          "output_type": "stream",
          "name": "stdout",
          "text": [
            "Shape: (42354,)\n"
          ]
        }
      ]
    },
    {
      "cell_type": "code",
      "source": [
        "def windowed_dataset(series, window_size, prediction_window, batch_size, shuffle_buffer):\n",
        "  dataset = tf.data.Dataset.from_tensor_slices(series)\n",
        "  dataset = dataset.window(window_size + prediction_window, shift = 1, drop_remainder = True)\n",
        "  dataset = dataset.flat_map(lambda window: window.batch(window_size + prediction_window))\n",
        "  dataset = dataset.shuffle(shuffle_buffer).map(lambda window: (window[:-prediction_window], window[-prediction_window:]))\n",
        "  dataset = dataset.batch(batch_size).prefetch(1)\n",
        "\n",
        "  return dataset"
      ],
      "metadata": {
        "id": "6RmfMYpu91nX"
      },
      "execution_count": 18,
      "outputs": []
    },
    {
      "cell_type": "code",
      "source": [
        "split_time = int(0.8*len(inp_arr))\n",
        "print('split time is:',split_time)\n",
        "\n",
        "x_train = inp_arr[:split_time] \n",
        "x_valid = inp_arr[split_time:] \n",
        "\n",
        "print('shape of x_train',np.shape(x_train))\n",
        "print('shape of x_valid',np.shape(x_valid))\n",
        "\n",
        "window_size = 100\n",
        "prediction_window = 1\n",
        "batch_size = 32\n",
        "shuffle_buffer = 50000"
      ],
      "metadata": {
        "colab": {
          "base_uri": "https://localhost:8080/"
        },
        "id": "7LWNiiMK98nr",
        "outputId": "37cf6df0-3d29-460b-ef0a-98386d8e7ef0"
      },
      "execution_count": 19,
      "outputs": [
        {
          "output_type": "stream",
          "name": "stdout",
          "text": [
            "split time is: 33883\n",
            "shape of x_train (33883,)\n",
            "shape of x_valid (8471,)\n"
          ]
        }
      ]
    },
    {
      "cell_type": "code",
      "source": [
        "plt.plot(x_train)\n",
        "plt.figure()\n",
        "plt.plot(x_valid)\n",
        "plt.show()"
      ],
      "metadata": {
        "colab": {
          "base_uri": "https://localhost:8080/",
          "height": 513
        },
        "id": "FPIvxQ4F-D7e",
        "outputId": "a1cbcff8-f5c0-4619-f5e7-93f06bf9cac1"
      },
      "execution_count": 20,
      "outputs": [
        {
          "output_type": "display_data",
          "data": {
            "text/plain": [
              "<Figure size 432x288 with 1 Axes>"
            ],
            "image/png": "[encoded data removed]"
          },
          "metadata": {
            "needs_background": "light"
          }
        },
        {
          "output_type": "display_data",
          "data": {
            "text/plain": [
              "<Figure size 432x288 with 1 Axes>"
            ],
            "image/png": "[encoded data removed]"
          },
          "metadata": {
            "needs_background": "light"
          }
        }
      ]
    },
    {
      "cell_type": "code",
      "source": [
        "from sklearn.preprocessing import StandardScaler\n",
        "\n",
        "std_scaler = StandardScaler()\n",
        "x_train_std = std_scaler.fit_transform(np.expand_dims(x_train, axis=-1))\n",
        "x_valid_std = std_scaler.transform(np.expand_dims(x_valid, axis=-1))\n",
        "\n",
        "plt.plot(x_train_std)\n",
        "plt.figure()\n",
        "plt.plot(x_valid_std)"
      ],
      "metadata": {
        "colab": {
          "base_uri": "https://localhost:8080/",
          "height": 530
        },
        "id": "0PPhZqLm-Ha1",
        "outputId": "82fcfae0-6483-4252-edfc-713c2073b3c1"
      },
      "execution_count": 21,
      "outputs": [
        {
          "output_type": "execute_result",
          "data": {
            "text/plain": [
              "[<matplotlib.lines.Line2D at 0x7f13208fa290>]"
            ]
          },
          "metadata": {},
          "execution_count": 21
        },
        {
          "output_type": "display_data",
          "data": {
            "text/plain": [
              "<Figure size 432x288 with 1 Axes>"
            ],
            "image/png": "[encoded data removed]"
          },
          "metadata": {
            "needs_background": "light"
          }
        },
        {
          "output_type": "display_data",
          "data": {
            "text/plain": [
              "<Figure size 432x288 with 1 Axes>"
            ],
            "image/png": "[encoded data removed]"
          },
          "metadata": {
            "needs_background": "light"
          }
        }
      ]
    },
    {
      "cell_type": "code",
      "source": [
        "dataset = windowed_dataset(x_train_std, window_size = window_size, prediction_window = prediction_window\n",
        "                           , batch_size = batch_size,shuffle_buffer = shuffle_buffer)"
      ],
      "metadata": {
        "id": "NA1b5yNc-TEY"
      },
      "execution_count": 22,
      "outputs": []
    },
    {
      "cell_type": "code",
      "source": [
        "def biLSTM_model():\n",
        "    model = tf.keras.models.Sequential([\n",
        "    tf.keras.layers.Bidirectional(tf.keras.layers.LSTM(300,return_sequences=True,kernel_initializer='he_normal'),input_shape=(100 , 1)),\n",
        "    tf.keras.layers.Bidirectional(tf.keras.layers.LSTM(200 ,return_sequences=True,kernel_initializer = 'he_normal')),\n",
        "    tf.keras.layers.Bidirectional(tf.keras.layers.LSTM(100 ,return_sequences=True,kernel_initializer = 'he_normal')),\n",
        "    tf.keras.layers.Bidirectional(tf.keras.layers.LSTM(50 ,return_sequences=True,kernel_initializer = 'he_normal')),\n",
        "    tf.keras.layers.Dropout(0.2),\n",
        "    tf.keras.layers.TimeDistributed(tf.keras.layers.Dense(25,activation = 'selu',kernel_initializer = 'he_normal')),\n",
        "    tf.keras.layers.Flatten(),\n",
        "    tf.keras.layers.Dense(1)    \n",
        "])\n",
        "    return model"
      ],
      "metadata": {
        "id": "D1G9GAuJ-Uyp"
      },
      "execution_count": 23,
      "outputs": []
    },
    {
      "cell_type": "code",
      "source": [
        "model = biLSTM_model()\n",
        "model.summary()"
      ],
      "metadata": {
        "colab": {
          "base_uri": "https://localhost:8080/"
        },
        "id": "dDgyEnIW-WoY",
        "outputId": "834305ff-51c7-4c02-a8e5-2b01d1b0748c"
      },
      "execution_count": 27,
      "outputs": [
        {
          "output_type": "stream",
          "name": "stdout",
          "text": [
            "Model: \"sequential_3\"\n",
            "_________________________________________________________________\n",
            " Layer (type)                Output Shape              Param #   \n",
            "=================================================================\n",
            " bidirectional_12 (Bidirecti  (None, 100, 600)         724800    \n",
            " onal)                                                           \n",
            "                                                                 \n",
            " bidirectional_13 (Bidirecti  (None, 100, 400)         1281600   \n",
            " onal)                                                           \n",
            "                                                                 \n",
            " bidirectional_14 (Bidirecti  (None, 100, 200)         400800    \n",
            " onal)                                                           \n",
            "                                                                 \n",
            " bidirectional_15 (Bidirecti  (None, 100, 100)         100400    \n",
            " onal)                                                           \n",
            "                                                                 \n",
            " dropout_3 (Dropout)         (None, 100, 100)          0         \n",
            "                                                                 \n",
            " time_distributed_3 (TimeDis  (None, 100, 25)          2525      \n",
            " tributed)                                                       \n",
            "                                                                 \n",
            " flatten_3 (Flatten)         (None, 2500)              0         \n",
            "                                                                 \n",
            " dense_7 (Dense)             (None, 1)                 2501      \n",
            "                                                                 \n",
            "=================================================================\n",
            "Total params: 2,512,626\n",
            "Trainable params: 2,512,626\n",
            "Non-trainable params: 0\n",
            "_________________________________________________________________\n"
          ]
        }
      ]
    },
    {
      "cell_type": "code",
      "source": [
        "model.compile(optimizer=tf.keras.optimizers.Adam(learning_rate=0.001) , loss='mae')"
      ],
      "metadata": {
        "id": "R17QXpIh-Y45"
      },
      "execution_count": 28,
      "outputs": []
    },
    {
      "cell_type": "code",
      "source": [
        "history = model.fit(dataset, epochs = 50)"
      ],
      "metadata": {
        "colab": {
          "base_uri": "https://localhost:8080/"
        },
        "id": "osLtVaJ_-b-X",
        "outputId": "25fce10c-f12c-4776-fba7-9decfa4cd3c7"
      },
      "execution_count": 73,
      "outputs": [
        {
          "output_type": "stream",
          "name": "stdout",
          "text": [
            "Epoch 1/50\n",
            "1056/1056 [==============================] - 62s 46ms/step - loss: 0.0158\n",
            "Epoch 2/50\n",
            "1056/1056 [==============================] - 53s 46ms/step - loss: 0.0157\n",
            "Epoch 3/50\n",
            "1056/1056 [==============================] - 53s 46ms/step - loss: 0.0160\n",
            "Epoch 4/50\n",
            "1056/1056 [==============================] - 54s 47ms/step - loss: 0.0158\n",
            "Epoch 5/50\n",
            "1056/1056 [==============================] - 53s 46ms/step - loss: 0.0158\n",
            "Epoch 6/50\n",
            "1056/1056 [==============================] - 53s 46ms/step - loss: 0.0156\n",
            "Epoch 7/50\n",
            "1056/1056 [==============================] - 54s 47ms/step - loss: 0.0157\n",
            "Epoch 8/50\n",
            "1056/1056 [==============================] - 53s 46ms/step - loss: 0.0156\n",
            "Epoch 9/50\n",
            "1056/1056 [==============================] - 54s 47ms/step - loss: 0.0155\n",
            "Epoch 10/50\n",
            "1056/1056 [==============================] - 53s 46ms/step - loss: 0.0159\n",
            "Epoch 11/50\n",
            "1056/1056 [==============================] - 54s 47ms/step - loss: 0.0157\n",
            "Epoch 12/50\n",
            "1056/1056 [==============================] - 53s 46ms/step - loss: 0.0154\n",
            "Epoch 13/50\n",
            "1056/1056 [==============================] - 53s 46ms/step - loss: 0.0154\n",
            "Epoch 14/50\n",
            "1056/1056 [==============================] - 54s 47ms/step - loss: 0.0157\n",
            "Epoch 15/50\n",
            "1056/1056 [==============================] - 53s 46ms/step - loss: 0.0156\n",
            "Epoch 16/50\n",
            "1056/1056 [==============================] - 53s 46ms/step - loss: 0.0155\n",
            "Epoch 17/50\n",
            "1056/1056 [==============================] - 54s 47ms/step - loss: 0.0153\n",
            "Epoch 18/50\n",
            "1056/1056 [==============================] - 53s 46ms/step - loss: 0.0153\n",
            "Epoch 19/50\n",
            "1056/1056 [==============================] - 54s 47ms/step - loss: 0.0154\n",
            "Epoch 20/50\n",
            "1056/1056 [==============================] - 53s 46ms/step - loss: 0.0151\n",
            "Epoch 21/50\n",
            "1056/1056 [==============================] - 54s 48ms/step - loss: 0.0153\n",
            "Epoch 22/50\n",
            "1056/1056 [==============================] - 53s 46ms/step - loss: 0.0151\n",
            "Epoch 23/50\n",
            "1056/1056 [==============================] - 54s 47ms/step - loss: 0.0150\n",
            "Epoch 24/50\n",
            "1056/1056 [==============================] - 53s 46ms/step - loss: 0.0152\n",
            "Epoch 25/50\n",
            "1056/1056 [==============================] - 53s 46ms/step - loss: 0.0152\n",
            "Epoch 26/50\n",
            "1056/1056 [==============================] - 54s 47ms/step - loss: 0.0150\n",
            "Epoch 27/50\n",
            "1056/1056 [==============================] - 53s 46ms/step - loss: 0.0151\n",
            "Epoch 28/50\n",
            "1056/1056 [==============================] - 54s 46ms/step - loss: 0.0153\n",
            "Epoch 29/50\n",
            "1056/1056 [==============================] - 54s 47ms/step - loss: 0.0149\n",
            "Epoch 30/50\n",
            "1056/1056 [==============================] - 53s 46ms/step - loss: 0.0150\n",
            "Epoch 31/50\n",
            "1056/1056 [==============================] - 54s 47ms/step - loss: 0.0152\n",
            "Epoch 32/50\n",
            "1056/1056 [==============================] - 55s 48ms/step - loss: 0.0151\n",
            "Epoch 33/50\n",
            "1056/1056 [==============================] - 53s 46ms/step - loss: 0.0150\n",
            "Epoch 34/50\n",
            "1056/1056 [==============================] - 54s 47ms/step - loss: 0.0152\n",
            "Epoch 35/50\n",
            "1056/1056 [==============================] - 53s 46ms/step - loss: 0.0150\n",
            "Epoch 36/50\n",
            "1056/1056 [==============================] - 55s 48ms/step - loss: 0.0151\n",
            "Epoch 37/50\n",
            "1056/1056 [==============================] - 53s 46ms/step - loss: 0.0149\n",
            "Epoch 38/50\n",
            "1056/1056 [==============================] - 54s 47ms/step - loss: 0.0149\n",
            "Epoch 39/50\n",
            "1056/1056 [==============================] - 55s 48ms/step - loss: 0.0148\n",
            "Epoch 40/50\n",
            "1056/1056 [==============================] - 54s 47ms/step - loss: 0.0148\n",
            "Epoch 41/50\n",
            "1056/1056 [==============================] - 55s 48ms/step - loss: 0.0151\n",
            "Epoch 42/50\n",
            "1056/1056 [==============================] - 53s 46ms/step - loss: 0.0148\n",
            "Epoch 43/50\n",
            "1056/1056 [==============================] - 54s 47ms/step - loss: 0.0147\n",
            "Epoch 44/50\n",
            "1056/1056 [==============================] - 53s 47ms/step - loss: 0.0148\n",
            "Epoch 45/50\n",
            "1056/1056 [==============================] - 53s 46ms/step - loss: 0.0148\n",
            "Epoch 46/50\n",
            "1056/1056 [==============================] - 54s 47ms/step - loss: 0.0149\n",
            "Epoch 47/50\n",
            "1056/1056 [==============================] - 53s 47ms/step - loss: 0.0151\n",
            "Epoch 48/50\n",
            "1056/1056 [==============================] - 54s 48ms/step - loss: 0.0148\n",
            "Epoch 49/50\n",
            "1056/1056 [==============================] - 53s 46ms/step - loss: 0.0147\n",
            "Epoch 50/50\n",
            "1056/1056 [==============================] - 53s 46ms/step - loss: 0.0149\n"
          ]
        }
      ]
    },
    {
      "cell_type": "code",
      "source": [
        "plt.plot(history.history['loss'][10:])"
      ],
      "metadata": {
        "colab": {
          "base_uri": "https://localhost:8080/",
          "height": 282
        },
        "id": "Ux1g2qdgQV0O",
        "outputId": "be81a772-8525-48c5-e908-bfb553bcdd9e"
      },
      "execution_count": 76,
      "outputs": [
        {
          "output_type": "execute_result",
          "data": {
            "text/plain": [
              "[<matplotlib.lines.Line2D at 0x7f12f4839890>]"
            ]
          },
          "metadata": {},
          "execution_count": 76
        },
        {
          "output_type": "display_data",
          "data": {
            "text/plain": [
              "<Figure size 432x288 with 1 Axes>"
            ],
            "image/png": "[encoded data removed]"
          },
          "metadata": {
            "needs_background": "light"
          }
        }
      ]
    },
    {
      "cell_type": "code",
      "source": [
        "model.save('/content/drive/MyDrive/new_model2.h5')"
      ],
      "metadata": {
        "id": "fXQVo0Az-hWT"
      },
      "execution_count": 74,
      "outputs": []
    },
    {
      "cell_type": "code",
      "source": [
        "model = tf.keras.models.load_model('/content/drive/MyDrive/new_model2.h5')"
      ],
      "metadata": {
        "id": "wElvPd1o-lyr"
      },
      "execution_count": 75,
      "outputs": []
    },
    {
      "cell_type": "code",
      "source": [
        "a = model.predict(np.reshape(x_valid_std[:100], (1,100)))\n",
        "a"
      ],
      "metadata": {
        "colab": {
          "base_uri": "https://localhost:8080/"
        },
        "id": "PT-jiH8w-o-5",
        "outputId": "ba1feee5-18e8-4565-b29a-53b59b01c14d"
      },
      "execution_count": 77,
      "outputs": [
        {
          "output_type": "execute_result",
          "data": {
            "text/plain": [
              "array([[-0.8825892]], dtype=float32)"
            ]
          },
          "metadata": {},
          "execution_count": 77
        }
      ]
    },
    {
      "cell_type": "code",
      "source": [
        "x_valid_std[101]"
      ],
      "metadata": {
        "colab": {
          "base_uri": "https://localhost:8080/"
        },
        "id": "pXeIYnTE-sLp",
        "outputId": "56221675-c51b-468d-bf6c-84b8a740f6c1"
      },
      "execution_count": 78,
      "outputs": [
        {
          "output_type": "execute_result",
          "data": {
            "text/plain": [
              "array([-0.89952675])"
            ]
          },
          "metadata": {},
          "execution_count": 78
        }
      ]
    },
    {
      "cell_type": "code",
      "source": [
        "valid_dataset =  windowed_dataset(x_valid_std, window_size = window_size, prediction_window = prediction_window\n",
        "                           , batch_size = batch_size,shuffle_buffer = shuffle_buffer)"
      ],
      "metadata": {
        "id": "ytcqGxqO-tnK"
      },
      "execution_count": 79,
      "outputs": []
    },
    {
      "cell_type": "code",
      "source": [
        "model.evaluate(valid_dataset)"
      ],
      "metadata": {
        "colab": {
          "base_uri": "https://localhost:8080/"
        },
        "id": "4Cd3otdE-vGa",
        "outputId": "3eb31301-cf16-4a51-eec8-5d86cc54f745"
      },
      "execution_count": 80,
      "outputs": [
        {
          "output_type": "stream",
          "name": "stdout",
          "text": [
            "262/262 [==============================] - 9s 20ms/step - loss: 0.1501\n"
          ]
        },
        {
          "output_type": "execute_result",
          "data": {
            "text/plain": [
              "0.15011397004127502"
            ]
          },
          "metadata": {},
          "execution_count": 80
        }
      ]
    },
    {
      "cell_type": "code",
      "source": [
        "aa = []\n",
        "for i in tqdm(range(len(x_valid_std)-100)):\n",
        "  a = model.predict(np.reshape(x_valid_std[i:i+100], (1,100)))\n",
        "\n",
        "  aa.append(std_scaler.inverse_transform(a))"
      ],
      "metadata": {
        "colab": {
          "base_uri": "https://localhost:8080/"
        },
        "id": "Iy0YC4cc-w87",
        "outputId": "b62f4316-1e64-49cd-f079-de5868202148"
      },
      "execution_count": 81,
      "outputs": [
        {
          "output_type": "stream",
          "name": "stderr",
          "text": [
            "100%|██████████| 8371/8371 [08:53<00:00, 15.69it/s]\n"
          ]
        }
      ]
    },
    {
      "cell_type": "code",
      "source": [
        "np.shape(aa)\n",
        "results = np.reshape(aa, (8371,))\n",
        "np.shape(results)\n",
        "results[:10]"
      ],
      "metadata": {
        "colab": {
          "base_uri": "https://localhost:8080/"
        },
        "id": "zFT0Rx8g-0Gi",
        "outputId": "56ae435b-d15a-45c7-f7ce-dae4c1ae08b7"
      },
      "execution_count": 82,
      "outputs": [
        {
          "output_type": "execute_result",
          "data": {
            "text/plain": [
              "array([1826.3639, 1825.0898, 1825.3348, 1825.6129, 1825.6871, 1825.6656,\n",
              "       1825.7538, 1824.399 , 1824.3291, 1823.773 ], dtype=float32)"
            ]
          },
          "metadata": {},
          "execution_count": 82
        }
      ]
    },
    {
      "cell_type": "code",
      "source": [
        "x_valid[:10]"
      ],
      "metadata": {
        "colab": {
          "base_uri": "https://localhost:8080/"
        },
        "id": "NZme0xx8Q0c8",
        "outputId": "5e53d556-2666-4531-b1ea-17e3dc11459e"
      },
      "execution_count": 83,
      "outputs": [
        {
          "output_type": "execute_result",
          "data": {
            "text/plain": [
              "array([1825.608, 1825.698, 1825.648, 1825.568, 1826.068, 1825.768,\n",
              "       1824.753, 1824.488, 1823.953, 1824.543])"
            ]
          },
          "metadata": {},
          "execution_count": 83
        }
      ]
    },
    {
      "cell_type": "code",
      "source": [
        "tmp_df = pd.DataFrame()\n",
        "tmp_df['x_valid'] = list(x_valid[100:])\n",
        "tmp_df['predicted'] = results\n",
        "tmp_df['diff'] = np.abs(tmp_df['x_valid'] - tmp_df['predicted'])\n",
        "tmp_df['diff_perc'] = (tmp_df['diff'] / tmp_df['x_valid'])*100\n",
        "tmp_df.head()"
      ],
      "metadata": {
        "colab": {
          "base_uri": "https://localhost:8080/",
          "height": 206
        },
        "id": "azxSuufQQ2B2",
        "outputId": "93f7943c-19a0-434f-910f-17f6f75b457f"
      },
      "execution_count": 84,
      "outputs": [
        {
          "output_type": "execute_result",
          "data": {
            "text/plain": [
              "    x_valid    predicted      diff  diff_perc\n",
              "0  1825.093  1826.363892  1.270892   0.069634\n",
              "1  1825.393  1825.089844  0.303156   0.016608\n",
              "2  1825.708  1825.334839  0.373161   0.020439\n",
              "3  1825.718  1825.612915  0.105085   0.005756\n",
              "4  1825.678  1825.687134  0.009134   0.000500"
            ],
            "text/html": [
              "\n",
              "  <div id=\"df-fd1f5bfd-7303-4a05-884c-5c85a078ae3a\">\n",
              "    <div class=\"colab-df-container\">\n",
              "      <div>\n",
              "<style scoped>\n",
              "    .dataframe tbody tr th:only-of-type {\n",
              "        vertical-align: middle;\n",
              "    }\n",
              "\n",
              "    .dataframe tbody tr th {\n",
              "        vertical-align: top;\n",
              "    }\n",
              "\n",
              "    .dataframe thead th {\n",
              "        text-align: right;\n",
              "    }\n",
              "</style>\n",
              "<table border=\"1\" class=\"dataframe\">\n",
              "  <thead>\n",
              "    <tr style=\"text-align: right;\">\n",
              "      <th></th>\n",
              "      <th>x_valid</th>\n",
              "      <th>predicted</th>\n",
              "      <th>diff</th>\n",
              "      <th>diff_perc</th>\n",
              "    </tr>\n",
              "  </thead>\n",
              "  <tbody>\n",
              "    <tr>\n",
              "      <th>0</th>\n",
              "      <td>1825.093</td>\n",
              "      <td>1826.363892</td>\n",
              "      <td>1.270892</td>\n",
              "      <td>0.069634</td>\n",
              "    </tr>\n",
              "    <tr>\n",
              "      <th>1</th>\n",
              "      <td>1825.393</td>\n",
              "      <td>1825.089844</td>\n",
              "      <td>0.303156</td>\n",
              "      <td>0.016608</td>\n",
              "    </tr>\n",
              "    <tr>\n",
              "      <th>2</th>\n",
              "      <td>1825.708</td>\n",
              "      <td>1825.334839</td>\n",
              "      <td>0.373161</td>\n",
              "      <td>0.020439</td>\n",
              "    </tr>\n",
              "    <tr>\n",
              "      <th>3</th>\n",
              "      <td>1825.718</td>\n",
              "      <td>1825.612915</td>\n",
              "      <td>0.105085</td>\n",
              "      <td>0.005756</td>\n",
              "    </tr>\n",
              "    <tr>\n",
              "      <th>4</th>\n",
              "      <td>1825.678</td>\n",
              "      <td>1825.687134</td>\n",
              "      <td>0.009134</td>\n",
              "      <td>0.000500</td>\n",
              "    </tr>\n",
              "  </tbody>\n",
              "</table>\n",
              "</div>\n",
              "      <button class=\"colab-df-convert\" onclick=\"convertToInteractive('df-fd1f5bfd-7303-4a05-884c-5c85a078ae3a')\"\n",
              "              title=\"Convert this dataframe to an interactive table.\"\n",
              "              style=\"display:none;\">\n",
              "        \n",
              "  <svg xmlns=\"http://www.w3.org/2000/svg\" height=\"24px\"viewBox=\"0 0 24 24\"\n",
              "       width=\"24px\">\n",
              "    <path d=\"M0 0h24v24H0V0z\" fill=\"none\"/>\n",
              "    <path d=\"M18.56 5.44l.94 2.06.94-2.06 2.06-.94-2.06-.94-.94-2.06-.94 2.06-2.06.94zm-11 1L8.5 8.5l.94-2.06 2.06-.94-2.06-.94L8.5 2.5l-.94 2.06-2.06.94zm10 10l.94 2.06.94-2.06 2.06-.94-2.06-.94-.94-2.06-.94 2.06-2.06.94z\"/><path d=\"M17.41 7.96l-1.37-1.37c-.4-.4-.92-.59-1.43-.59-.52 0-1.04.2-1.43.59L10.3 9.45l-7.72 7.72c-.78.78-.78 2.05 0 2.83L4 21.41c.39.39.9.59 1.41.59.51 0 1.02-.2 1.41-.59l7.78-7.78 2.81-2.81c.8-.78.8-2.07 0-2.86zM5.41 20L4 18.59l7.72-7.72 1.47 1.35L5.41 20z\"/>\n",
              "  </svg>\n",
              "      </button>\n",
              "      \n",
              "  <style>\n",
              "    .colab-df-container {\n",
              "      display:flex;\n",
              "      flex-wrap:wrap;\n",
              "      gap: 12px;\n",
              "    }\n",
              "\n",
              "    .colab-df-convert {\n",
              "      background-color: #E8F0FE;\n",
              "      border: none;\n",
              "      border-radius: 50%;\n",
              "      cursor: pointer;\n",
              "      display: none;\n",
              "      fill: #1967D2;\n",
              "      height: 32px;\n",
              "      padding: 0 0 0 0;\n",
              "      width: 32px;\n",
              "    }\n",
              "\n",
              "    .colab-df-convert:hover {\n",
              "      background-color: #E2EBFA;\n",
              "      box-shadow: 0px 1px 2px rgba(60, 64, 67, 0.3), 0px 1px 3px 1px rgba(60, 64, 67, 0.15);\n",
              "      fill: #174EA6;\n",
              "    }\n",
              "\n",
              "    [theme=dark] .colab-df-convert {\n",
              "      background-color: #3B4455;\n",
              "      fill: #D2E3FC;\n",
              "    }\n",
              "\n",
              "    [theme=dark] .colab-df-convert:hover {\n",
              "      background-color: #434B5C;\n",
              "      box-shadow: 0px 1px 3px 1px rgba(0, 0, 0, 0.15);\n",
              "      filter: drop-shadow(0px 1px 2px rgba(0, 0, 0, 0.3));\n",
              "      fill: #FFFFFF;\n",
              "    }\n",
              "  </style>\n",
              "\n",
              "      <script>\n",
              "        const buttonEl =\n",
              "          document.querySelector('#df-fd1f5bfd-7303-4a05-884c-5c85a078ae3a button.colab-df-convert');\n",
              "        buttonEl.style.display =\n",
              "          google.colab.kernel.accessAllowed ? 'block' : 'none';\n",
              "\n",
              "        async function convertToInteractive(key) {\n",
              "          const element = document.querySelector('#df-fd1f5bfd-7303-4a05-884c-5c85a078ae3a');\n",
              "          const dataTable =\n",
              "            await google.colab.kernel.invokeFunction('convertToInteractive',\n",
              "                                                     [key], {});\n",
              "          if (!dataTable) return;\n",
              "\n",
              "          const docLinkHtml = 'Like what you see? Visit the ' +\n",
              "            '<a target=\"_blank\" href=https://colab.research.google.com/notebooks/data_table.ipynb>data table notebook</a>'\n",
              "            + ' to learn more about interactive tables.';\n",
              "          element.innerHTML = '';\n",
              "          dataTable['output_type'] = 'display_data';\n",
              "          await google.colab.output.renderOutput(dataTable, element);\n",
              "          const docLink = document.createElement('div');\n",
              "          docLink.innerHTML = docLinkHtml;\n",
              "          element.appendChild(docLink);\n",
              "        }\n",
              "      </script>\n",
              "    </div>\n",
              "  </div>\n",
              "  "
            ]
          },
          "metadata": {},
          "execution_count": 84
        }
      ]
    },
    {
      "cell_type": "code",
      "source": [
        "tmp_df.shape"
      ],
      "metadata": {
        "colab": {
          "base_uri": "https://localhost:8080/"
        },
        "id": "uXhqJ55AxEtO",
        "outputId": "c9f1673a-d03e-4269-ae8c-e788f1d645b9"
      },
      "execution_count": 95,
      "outputs": [
        {
          "output_type": "execute_result",
          "data": {
            "text/plain": [
              "(8371, 4)"
            ]
          },
          "metadata": {},
          "execution_count": 95
        }
      ]
    },
    {
      "cell_type": "code",
      "source": [
        "tmp_df['diff'].mean()"
      ],
      "metadata": {
        "colab": {
          "base_uri": "https://localhost:8080/"
        },
        "id": "zbAWDtsrTZbf",
        "outputId": "b8e1122f-fa40-4f7c-f547-a89d0fbd0f8a"
      },
      "execution_count": 85,
      "outputs": [
        {
          "output_type": "execute_result",
          "data": {
            "text/plain": [
              "8.6047242403788"
            ]
          },
          "metadata": {},
          "execution_count": 85
        }
      ]
    },
    {
      "cell_type": "code",
      "source": [
        "tmp_df['diff_perc'].max()"
      ],
      "metadata": {
        "colab": {
          "base_uri": "https://localhost:8080/"
        },
        "id": "zBj6oETtT9nM",
        "outputId": "98e85402-5ea7-4b34-c2fc-f7e42cad8c45"
      },
      "execution_count": 86,
      "outputs": [
        {
          "output_type": "execute_result",
          "data": {
            "text/plain": [
              "4.737836400940864"
            ]
          },
          "metadata": {},
          "execution_count": 86
        }
      ]
    },
    {
      "cell_type": "code",
      "source": [
        "tmp_df['x_valid'].mean()"
      ],
      "metadata": {
        "colab": {
          "base_uri": "https://localhost:8080/"
        },
        "id": "VN9-_PNxQ3s7",
        "outputId": "302bdedc-3a9e-4d91-d182-c0edcccd5dc6"
      },
      "execution_count": 46,
      "outputs": [
        {
          "output_type": "execute_result",
          "data": {
            "text/plain": [
              "1755.6862407119818"
            ]
          },
          "metadata": {},
          "execution_count": 46
        }
      ]
    },
    {
      "cell_type": "code",
      "source": [
        "(tmp_df['diff'].mean() / tmp_df['x_valid'].mean())*100"
      ],
      "metadata": {
        "colab": {
          "base_uri": "https://localhost:8080/"
        },
        "id": "F5LqjfosTB6r",
        "outputId": "87b96b65-aa5a-42e5-9b59-66ebf16f1ad7"
      },
      "execution_count": 87,
      "outputs": [
        {
          "output_type": "execute_result",
          "data": {
            "text/plain": [
              "0.49010603608132935"
            ]
          },
          "metadata": {},
          "execution_count": 87
        }
      ]
    },
    {
      "cell_type": "code",
      "source": [
        "plt.plot(tmp_df['x_valid'])\n",
        "plt.plot(tmp_df['predicted'])\n",
        "#plt.axvline(x = 1800)"
      ],
      "metadata": {
        "colab": {
          "base_uri": "https://localhost:8080/",
          "height": 282
        },
        "id": "o-4ZPjpEUFnb",
        "outputId": "b10e5cd4-510a-4c68-a1fa-379ecd716b17"
      },
      "execution_count": 88,
      "outputs": [
        {
          "output_type": "execute_result",
          "data": {
            "text/plain": [
              "[<matplotlib.lines.Line2D at 0x7f131f6581d0>]"
            ]
          },
          "metadata": {},
          "execution_count": 88
        },
        {
          "output_type": "display_data",
          "data": {
            "text/plain": [
              "<Figure size 432x288 with 1 Axes>"
            ],
            "image/png": "[encoded data removed]"
          },
          "metadata": {
            "needs_background": "light"
          }
        }
      ]
    },
    {
      "cell_type": "code",
      "source": [
        "tf.keras.metrics.mean_absolute_percentage_error(np.array(tmp_df['x_valid']), np.array(tmp_df['predicted']))"
      ],
      "metadata": {
        "colab": {
          "base_uri": "https://localhost:8080/"
        },
        "id": "mAAgz42iTiGC",
        "outputId": "8392b1e3-cdef-476b-a028-8643d78d49ad"
      },
      "execution_count": 89,
      "outputs": [
        {
          "output_type": "execute_result",
          "data": {
            "text/plain": [
              "<tf.Tensor: shape=(), dtype=float32, numpy=0.49853045>"
            ]
          },
          "metadata": {},
          "execution_count": 89
        }
      ]
    },
    {
      "cell_type": "markdown",
      "source": [
        "## Classification"
      ],
      "metadata": {
        "id": "vg5ZAdNxwHab"
      }
    },
    {
      "cell_type": "code",
      "source": [
        "def generate_up_down(lst):\n",
        "  state = []\n",
        "  for k , v in enumerate(lst):\n",
        "    if k == 0:\n",
        "      prev = v\n",
        "      continue\n",
        "    else:\n",
        "      if v > prev:\n",
        "        state.append('UP')\n",
        "      elif v < prev:\n",
        "        state.append('Down')\n",
        "      elif v == prev:\n",
        "        state.append('Stable')\n",
        "      prev = v\n",
        "\n",
        "  return state\n"
      ],
      "metadata": {
        "id": "2xL7KOyMVuC5"
      },
      "execution_count": 96,
      "outputs": []
    },
    {
      "cell_type": "code",
      "source": [
        "pred_labels = generate_up_down(tmp_df['predicted'])\n",
        "valid_labels = generate_up_down(tmp_df['x_valid'])\n",
        "\n",
        "from sklearn.metrics import accuracy_score\n",
        "\n",
        "print('accuracy in valid prediction is:', np.round(accuracy_score(valid_labels, pred_labels)*100,2),'%')\n",
        "\n",
        "print(pred_labels[1000:1010])\n",
        "print(valid_labels[1000:1010])"
      ],
      "metadata": {
        "colab": {
          "base_uri": "https://localhost:8080/"
        },
        "id": "0QglE7q-wY8Z",
        "outputId": "447b767d-dbbb-4079-b1a5-88edcab47c32"
      },
      "execution_count": 100,
      "outputs": [
        {
          "output_type": "stream",
          "name": "stdout",
          "text": [
            "accuracy in valid prediction is: 48.1 %\n",
            "['Down', 'UP', 'UP', 'Down', 'UP', 'Down', 'Down', 'UP', 'Down', 'Down']\n",
            "['UP', 'UP', 'Down', 'UP', 'Down', 'Down', 'UP', 'Down', 'Down', 'Down']\n"
          ]
        }
      ]
    },
    {
      "cell_type": "code",
      "source": [
        ""
      ],
      "metadata": {
        "id": "WM17CoF3x9V5"
      },
      "execution_count": null,
      "outputs": []
    }
  ]
}