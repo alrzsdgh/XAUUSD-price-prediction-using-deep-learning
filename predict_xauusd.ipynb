{
  "cells": [
    {
      "cell_type": "markdown",
      "metadata": {
        "id": "RcIalJ3ClKzP"
      },
      "source": [
        "Note: Make sure to set the runtime type on GPU mood before you start!"
      ]
    },
    {
      "cell_type": "markdown",
      "metadata": {
        "id": "pcH4hb4Sl0iB"
      },
      "source": [
        "## Importing Needed Modules"
      ]
    },
    {
      "cell_type": "code",
      "execution_count": 1,
      "metadata": {
        "id": "cnXMiViv6Mxd"
      },
      "outputs": [],
      "source": [
        "import numpy as np\n",
        "import os\n",
        "import pandas as pd\n",
        "import matplotlib.pyplot as plt\n",
        "from tqdm import tqdm\n",
        "import random\n",
        "from sklearn.preprocessing import StandardScaler\n",
        "\n",
        "import tensorflow as tf\n",
        "import shutil"
      ]
    },
    {
      "cell_type": "markdown",
      "metadata": {
        "id": "Y7JuMKS9mBZn"
      },
      "source": [
        "## Importing Dataset and preprocessing"
      ]
    },
    {
      "cell_type": "markdown",
      "metadata": {
        "id": "PQoMPzNTmGAd"
      },
      "source": [
        "The dataset which is used in this project is downloaded from [here](https://www.dukascopy.com/plugins/fxMarketWatch/?historical_data). This dataset contains Open price, High price, Low price, Close price, and volume of XAUUSD trading in the 5-minute time frame from 1st January 2022 until 6th August 2022 (the day of doing the project).\n",
        "\n",
        "In order to use the given dataset, you need to download it and put it in the desired directory. As I was working on Colab, I put the dataset on my drive and imported it to the environment from there. Pay attention to the `data_dir` variable in the following code cell and set it in a way that is proper for your"
      ]
    },
    {
      "cell_type": "code",
      "execution_count": 2,
      "metadata": {
        "id": "28UMVlaR6XA8"
      },
      "outputs": [],
      "source": [
        "data_dir = '/content/drive/MyDrive/XAUUSD_Candlestick_5_M_BID_01.01.2022-06.08.2022.csv'\n",
        "df = pd .read_csv(data_dir)"
      ]
    },
    {
      "cell_type": "markdown",
      "metadata": {
        "id": "cC4jH5UbrZgw"
      },
      "source": [
        "Now let's take a look at the raw dataset!"
      ]
    },
    {
      "cell_type": "code",
      "execution_count": 3,
      "metadata": {
        "colab": {
          "base_uri": "https://localhost:8080/",
          "height": 224
        },
        "id": "w1tMRTg3rVwu",
        "outputId": "08dc6240-51c9-4fff-b715-ec855010e7d1"
      },
      "outputs": [
        {
          "output_type": "stream",
          "name": "stdout",
          "text": [
            "(62772, 6)\n"
          ]
        },
        {
          "output_type": "execute_result",
          "data": {
            "text/plain": [
              "                         Local time      Open      High       Low     Close  \\\n",
              "0  01.01.2022 00:00:00.000 GMT+0330  1828.478  1828.624  1828.434  1828.514   \n",
              "1  01.01.2022 00:05:00.000 GMT+0330  1828.514  1829.054  1828.468  1828.984   \n",
              "2  01.01.2022 00:10:00.000 GMT+0330  1828.984  1829.128  1828.718  1828.964   \n",
              "3  01.01.2022 00:15:00.000 GMT+0330  1828.964  1829.608  1828.934  1829.528   \n",
              "4  01.01.2022 00:20:00.000 GMT+0330  1829.554  1830.248  1829.454  1829.898   \n",
              "\n",
              "       Volume  \n",
              "0  40399.9994  \n",
              "1  58690.0013  \n",
              "2  29900.0003  \n",
              "3  53070.0003  \n",
              "4  75590.0014  "
            ],
            "text/html": [
              "\n",
              "  <div id=\"df-1981876f-2c02-4927-8f80-fffe69998ced\">\n",
              "    <div class=\"colab-df-container\">\n",
              "      <div>\n",
              "<style scoped>\n",
              "    .dataframe tbody tr th:only-of-type {\n",
              "        vertical-align: middle;\n",
              "    }\n",
              "\n",
              "    .dataframe tbody tr th {\n",
              "        vertical-align: top;\n",
              "    }\n",
              "\n",
              "    .dataframe thead th {\n",
              "        text-align: right;\n",
              "    }\n",
              "</style>\n",
              "<table border=\"1\" class=\"dataframe\">\n",
              "  <thead>\n",
              "    <tr style=\"text-align: right;\">\n",
              "      <th></th>\n",
              "      <th>Local time</th>\n",
              "      <th>Open</th>\n",
              "      <th>High</th>\n",
              "      <th>Low</th>\n",
              "      <th>Close</th>\n",
              "      <th>Volume</th>\n",
              "    </tr>\n",
              "  </thead>\n",
              "  <tbody>\n",
              "    <tr>\n",
              "      <th>0</th>\n",
              "      <td>01.01.2022 00:00:00.000 GMT+0330</td>\n",
              "      <td>1828.478</td>\n",
              "      <td>1828.624</td>\n",
              "      <td>1828.434</td>\n",
              "      <td>1828.514</td>\n",
              "      <td>40399.9994</td>\n",
              "    </tr>\n",
              "    <tr>\n",
              "      <th>1</th>\n",
              "      <td>01.01.2022 00:05:00.000 GMT+0330</td>\n",
              "      <td>1828.514</td>\n",
              "      <td>1829.054</td>\n",
              "      <td>1828.468</td>\n",
              "      <td>1828.984</td>\n",
              "      <td>58690.0013</td>\n",
              "    </tr>\n",
              "    <tr>\n",
              "      <th>2</th>\n",
              "      <td>01.01.2022 00:10:00.000 GMT+0330</td>\n",
              "      <td>1828.984</td>\n",
              "      <td>1829.128</td>\n",
              "      <td>1828.718</td>\n",
              "      <td>1828.964</td>\n",
              "      <td>29900.0003</td>\n",
              "    </tr>\n",
              "    <tr>\n",
              "      <th>3</th>\n",
              "      <td>01.01.2022 00:15:00.000 GMT+0330</td>\n",
              "      <td>1828.964</td>\n",
              "      <td>1829.608</td>\n",
              "      <td>1828.934</td>\n",
              "      <td>1829.528</td>\n",
              "      <td>53070.0003</td>\n",
              "    </tr>\n",
              "    <tr>\n",
              "      <th>4</th>\n",
              "      <td>01.01.2022 00:20:00.000 GMT+0330</td>\n",
              "      <td>1829.554</td>\n",
              "      <td>1830.248</td>\n",
              "      <td>1829.454</td>\n",
              "      <td>1829.898</td>\n",
              "      <td>75590.0014</td>\n",
              "    </tr>\n",
              "  </tbody>\n",
              "</table>\n",
              "</div>\n",
              "      <button class=\"colab-df-convert\" onclick=\"convertToInteractive('df-1981876f-2c02-4927-8f80-fffe69998ced')\"\n",
              "              title=\"Convert this dataframe to an interactive table.\"\n",
              "              style=\"display:none;\">\n",
              "        \n",
              "  <svg xmlns=\"http://www.w3.org/2000/svg\" height=\"24px\"viewBox=\"0 0 24 24\"\n",
              "       width=\"24px\">\n",
              "    <path d=\"M0 0h24v24H0V0z\" fill=\"none\"/>\n",
              "    <path d=\"M18.56 5.44l.94 2.06.94-2.06 2.06-.94-2.06-.94-.94-2.06-.94 2.06-2.06.94zm-11 1L8.5 8.5l.94-2.06 2.06-.94-2.06-.94L8.5 2.5l-.94 2.06-2.06.94zm10 10l.94 2.06.94-2.06 2.06-.94-2.06-.94-.94-2.06-.94 2.06-2.06.94z\"/><path d=\"M17.41 7.96l-1.37-1.37c-.4-.4-.92-.59-1.43-.59-.52 0-1.04.2-1.43.59L10.3 9.45l-7.72 7.72c-.78.78-.78 2.05 0 2.83L4 21.41c.39.39.9.59 1.41.59.51 0 1.02-.2 1.41-.59l7.78-7.78 2.81-2.81c.8-.78.8-2.07 0-2.86zM5.41 20L4 18.59l7.72-7.72 1.47 1.35L5.41 20z\"/>\n",
              "  </svg>\n",
              "      </button>\n",
              "      \n",
              "  <style>\n",
              "    .colab-df-container {\n",
              "      display:flex;\n",
              "      flex-wrap:wrap;\n",
              "      gap: 12px;\n",
              "    }\n",
              "\n",
              "    .colab-df-convert {\n",
              "      background-color: #E8F0FE;\n",
              "      border: none;\n",
              "      border-radius: 50%;\n",
              "      cursor: pointer;\n",
              "      display: none;\n",
              "      fill: #1967D2;\n",
              "      height: 32px;\n",
              "      padding: 0 0 0 0;\n",
              "      width: 32px;\n",
              "    }\n",
              "\n",
              "    .colab-df-convert:hover {\n",
              "      background-color: #E2EBFA;\n",
              "      box-shadow: 0px 1px 2px rgba(60, 64, 67, 0.3), 0px 1px 3px 1px rgba(60, 64, 67, 0.15);\n",
              "      fill: #174EA6;\n",
              "    }\n",
              "\n",
              "    [theme=dark] .colab-df-convert {\n",
              "      background-color: #3B4455;\n",
              "      fill: #D2E3FC;\n",
              "    }\n",
              "\n",
              "    [theme=dark] .colab-df-convert:hover {\n",
              "      background-color: #434B5C;\n",
              "      box-shadow: 0px 1px 3px 1px rgba(0, 0, 0, 0.15);\n",
              "      filter: drop-shadow(0px 1px 2px rgba(0, 0, 0, 0.3));\n",
              "      fill: #FFFFFF;\n",
              "    }\n",
              "  </style>\n",
              "\n",
              "      <script>\n",
              "        const buttonEl =\n",
              "          document.querySelector('#df-1981876f-2c02-4927-8f80-fffe69998ced button.colab-df-convert');\n",
              "        buttonEl.style.display =\n",
              "          google.colab.kernel.accessAllowed ? 'block' : 'none';\n",
              "\n",
              "        async function convertToInteractive(key) {\n",
              "          const element = document.querySelector('#df-1981876f-2c02-4927-8f80-fffe69998ced');\n",
              "          const dataTable =\n",
              "            await google.colab.kernel.invokeFunction('convertToInteractive',\n",
              "                                                     [key], {});\n",
              "          if (!dataTable) return;\n",
              "\n",
              "          const docLinkHtml = 'Like what you see? Visit the ' +\n",
              "            '<a target=\"_blank\" href=https://colab.research.google.com/notebooks/data_table.ipynb>data table notebook</a>'\n",
              "            + ' to learn more about interactive tables.';\n",
              "          element.innerHTML = '';\n",
              "          dataTable['output_type'] = 'display_data';\n",
              "          await google.colab.output.renderOutput(dataTable, element);\n",
              "          const docLink = document.createElement('div');\n",
              "          docLink.innerHTML = docLinkHtml;\n",
              "          element.appendChild(docLink);\n",
              "        }\n",
              "      </script>\n",
              "    </div>\n",
              "  </div>\n",
              "  "
            ]
          },
          "metadata": {},
          "execution_count": 3
        }
      ],
      "source": [
        "print(df.shape)\n",
        "df.head()"
      ]
    },
    {
      "cell_type": "markdown",
      "metadata": {
        "id": "kSPLR6ThrtvH"
      },
      "source": [
        "As it is obvious, there are 62772 rows in the dataset each of which shows a particular trading position in the 5-minute time frame. But there are some rows the volume of which is 0 which means there was no trading action at that moment. These 0-volume rows are indicating when the market is closed (weekends) or is on its daily break. to make the dataset clean, I eliminated these 0-volume rows and only used values when the market was actively working."
      ]
    },
    {
      "cell_type": "code",
      "execution_count": 4,
      "metadata": {
        "colab": {
          "base_uri": "https://localhost:8080/",
          "height": 224
        },
        "id": "1OWWJAAK8-dj",
        "outputId": "4aab468d-ef27-4dde-ebc3-435990289ee9"
      },
      "outputs": [
        {
          "output_type": "stream",
          "name": "stdout",
          "text": [
            "(42354, 6)\n"
          ]
        },
        {
          "output_type": "execute_result",
          "data": {
            "text/plain": [
              "                         Local time      Open      High       Low     Close  \\\n",
              "0  01.01.2022 00:00:00.000 GMT+0330  1828.478  1828.624  1828.434  1828.514   \n",
              "1  01.01.2022 00:05:00.000 GMT+0330  1828.514  1829.054  1828.468  1828.984   \n",
              "2  01.01.2022 00:10:00.000 GMT+0330  1828.984  1829.128  1828.718  1828.964   \n",
              "3  01.01.2022 00:15:00.000 GMT+0330  1828.964  1829.608  1828.934  1829.528   \n",
              "4  01.01.2022 00:20:00.000 GMT+0330  1829.554  1830.248  1829.454  1829.898   \n",
              "\n",
              "       Volume  \n",
              "0  40399.9994  \n",
              "1  58690.0013  \n",
              "2  29900.0003  \n",
              "3  53070.0003  \n",
              "4  75590.0014  "
            ],
            "text/html": [
              "\n",
              "  <div id=\"df-7c24a795-faf7-4683-ac73-f26f93fd59ac\">\n",
              "    <div class=\"colab-df-container\">\n",
              "      <div>\n",
              "<style scoped>\n",
              "    .dataframe tbody tr th:only-of-type {\n",
              "        vertical-align: middle;\n",
              "    }\n",
              "\n",
              "    .dataframe tbody tr th {\n",
              "        vertical-align: top;\n",
              "    }\n",
              "\n",
              "    .dataframe thead th {\n",
              "        text-align: right;\n",
              "    }\n",
              "</style>\n",
              "<table border=\"1\" class=\"dataframe\">\n",
              "  <thead>\n",
              "    <tr style=\"text-align: right;\">\n",
              "      <th></th>\n",
              "      <th>Local time</th>\n",
              "      <th>Open</th>\n",
              "      <th>High</th>\n",
              "      <th>Low</th>\n",
              "      <th>Close</th>\n",
              "      <th>Volume</th>\n",
              "    </tr>\n",
              "  </thead>\n",
              "  <tbody>\n",
              "    <tr>\n",
              "      <th>0</th>\n",
              "      <td>01.01.2022 00:00:00.000 GMT+0330</td>\n",
              "      <td>1828.478</td>\n",
              "      <td>1828.624</td>\n",
              "      <td>1828.434</td>\n",
              "      <td>1828.514</td>\n",
              "      <td>40399.9994</td>\n",
              "    </tr>\n",
              "    <tr>\n",
              "      <th>1</th>\n",
              "      <td>01.01.2022 00:05:00.000 GMT+0330</td>\n",
              "      <td>1828.514</td>\n",
              "      <td>1829.054</td>\n",
              "      <td>1828.468</td>\n",
              "      <td>1828.984</td>\n",
              "      <td>58690.0013</td>\n",
              "    </tr>\n",
              "    <tr>\n",
              "      <th>2</th>\n",
              "      <td>01.01.2022 00:10:00.000 GMT+0330</td>\n",
              "      <td>1828.984</td>\n",
              "      <td>1829.128</td>\n",
              "      <td>1828.718</td>\n",
              "      <td>1828.964</td>\n",
              "      <td>29900.0003</td>\n",
              "    </tr>\n",
              "    <tr>\n",
              "      <th>3</th>\n",
              "      <td>01.01.2022 00:15:00.000 GMT+0330</td>\n",
              "      <td>1828.964</td>\n",
              "      <td>1829.608</td>\n",
              "      <td>1828.934</td>\n",
              "      <td>1829.528</td>\n",
              "      <td>53070.0003</td>\n",
              "    </tr>\n",
              "    <tr>\n",
              "      <th>4</th>\n",
              "      <td>01.01.2022 00:20:00.000 GMT+0330</td>\n",
              "      <td>1829.554</td>\n",
              "      <td>1830.248</td>\n",
              "      <td>1829.454</td>\n",
              "      <td>1829.898</td>\n",
              "      <td>75590.0014</td>\n",
              "    </tr>\n",
              "  </tbody>\n",
              "</table>\n",
              "</div>\n",
              "      <button class=\"colab-df-convert\" onclick=\"convertToInteractive('df-7c24a795-faf7-4683-ac73-f26f93fd59ac')\"\n",
              "              title=\"Convert this dataframe to an interactive table.\"\n",
              "              style=\"display:none;\">\n",
              "        \n",
              "  <svg xmlns=\"http://www.w3.org/2000/svg\" height=\"24px\"viewBox=\"0 0 24 24\"\n",
              "       width=\"24px\">\n",
              "    <path d=\"M0 0h24v24H0V0z\" fill=\"none\"/>\n",
              "    <path d=\"M18.56 5.44l.94 2.06.94-2.06 2.06-.94-2.06-.94-.94-2.06-.94 2.06-2.06.94zm-11 1L8.5 8.5l.94-2.06 2.06-.94-2.06-.94L8.5 2.5l-.94 2.06-2.06.94zm10 10l.94 2.06.94-2.06 2.06-.94-2.06-.94-.94-2.06-.94 2.06-2.06.94z\"/><path d=\"M17.41 7.96l-1.37-1.37c-.4-.4-.92-.59-1.43-.59-.52 0-1.04.2-1.43.59L10.3 9.45l-7.72 7.72c-.78.78-.78 2.05 0 2.83L4 21.41c.39.39.9.59 1.41.59.51 0 1.02-.2 1.41-.59l7.78-7.78 2.81-2.81c.8-.78.8-2.07 0-2.86zM5.41 20L4 18.59l7.72-7.72 1.47 1.35L5.41 20z\"/>\n",
              "  </svg>\n",
              "      </button>\n",
              "      \n",
              "  <style>\n",
              "    .colab-df-container {\n",
              "      display:flex;\n",
              "      flex-wrap:wrap;\n",
              "      gap: 12px;\n",
              "    }\n",
              "\n",
              "    .colab-df-convert {\n",
              "      background-color: #E8F0FE;\n",
              "      border: none;\n",
              "      border-radius: 50%;\n",
              "      cursor: pointer;\n",
              "      display: none;\n",
              "      fill: #1967D2;\n",
              "      height: 32px;\n",
              "      padding: 0 0 0 0;\n",
              "      width: 32px;\n",
              "    }\n",
              "\n",
              "    .colab-df-convert:hover {\n",
              "      background-color: #E2EBFA;\n",
              "      box-shadow: 0px 1px 2px rgba(60, 64, 67, 0.3), 0px 1px 3px 1px rgba(60, 64, 67, 0.15);\n",
              "      fill: #174EA6;\n",
              "    }\n",
              "\n",
              "    [theme=dark] .colab-df-convert {\n",
              "      background-color: #3B4455;\n",
              "      fill: #D2E3FC;\n",
              "    }\n",
              "\n",
              "    [theme=dark] .colab-df-convert:hover {\n",
              "      background-color: #434B5C;\n",
              "      box-shadow: 0px 1px 3px 1px rgba(0, 0, 0, 0.15);\n",
              "      filter: drop-shadow(0px 1px 2px rgba(0, 0, 0, 0.3));\n",
              "      fill: #FFFFFF;\n",
              "    }\n",
              "  </style>\n",
              "\n",
              "      <script>\n",
              "        const buttonEl =\n",
              "          document.querySelector('#df-7c24a795-faf7-4683-ac73-f26f93fd59ac button.colab-df-convert');\n",
              "        buttonEl.style.display =\n",
              "          google.colab.kernel.accessAllowed ? 'block' : 'none';\n",
              "\n",
              "        async function convertToInteractive(key) {\n",
              "          const element = document.querySelector('#df-7c24a795-faf7-4683-ac73-f26f93fd59ac');\n",
              "          const dataTable =\n",
              "            await google.colab.kernel.invokeFunction('convertToInteractive',\n",
              "                                                     [key], {});\n",
              "          if (!dataTable) return;\n",
              "\n",
              "          const docLinkHtml = 'Like what you see? Visit the ' +\n",
              "            '<a target=\"_blank\" href=https://colab.research.google.com/notebooks/data_table.ipynb>data table notebook</a>'\n",
              "            + ' to learn more about interactive tables.';\n",
              "          element.innerHTML = '';\n",
              "          dataTable['output_type'] = 'display_data';\n",
              "          await google.colab.output.renderOutput(dataTable, element);\n",
              "          const docLink = document.createElement('div');\n",
              "          docLink.innerHTML = docLinkHtml;\n",
              "          element.appendChild(docLink);\n",
              "        }\n",
              "      </script>\n",
              "    </div>\n",
              "  </div>\n",
              "  "
            ]
          },
          "metadata": {},
          "execution_count": 4
        }
      ],
      "source": [
        "new_df = df[df['Volume'] != 0]\n",
        "print(new_df.shape)\n",
        "new_df.head()"
      ]
    },
    {
      "cell_type": "markdown",
      "metadata": {
        "id": "GT2nMQ7St2LY"
      },
      "source": [
        "I only used the close prices for price prediction. Thus, I separated these values from the dataset and made an array of them."
      ]
    },
    {
      "cell_type": "code",
      "execution_count": 5,
      "metadata": {
        "colab": {
          "base_uri": "https://localhost:8080/"
        },
        "id": "uyraxhd39a8k",
        "outputId": "3ba0b7cf-4b9b-44d2-c720-116ffd24b7ae"
      },
      "outputs": [
        {
          "output_type": "stream",
          "name": "stdout",
          "text": [
            "Shape: (42354,)\n"
          ]
        }
      ],
      "source": [
        "inp_arr = np.array(new_df['Close'])\n",
        "\n",
        "print('Shape:', np.shape(inp_arr))"
      ]
    },
    {
      "cell_type": "markdown",
      "metadata": {
        "id": "_w084Q4OvY7W"
      },
      "source": [
        "Now it is time to prepare the dataset in a way that is proper for training my model. To achieve this objective, I created a function that can chop the dataset values into the inputs and labels."
      ]
    },
    {
      "cell_type": "code",
      "execution_count": 6,
      "metadata": {
        "id": "6RmfMYpu91nX"
      },
      "outputs": [],
      "source": [
        "def windowed_dataset(series, window_size, prediction_window, batch_size, shuffle_buffer):\n",
        "  dataset = tf.data.Dataset.from_tensor_slices(series)\n",
        "  dataset = dataset.window(window_size + prediction_window, shift = 1, drop_remainder = True)\n",
        "  dataset = dataset.flat_map(lambda window: window.batch(window_size + prediction_window))\n",
        "  dataset = dataset.shuffle(shuffle_buffer).map(lambda window: (window[:-prediction_window], window[-prediction_window:]))\n",
        "  dataset = dataset.batch(batch_size).prefetch(1)\n",
        "\n",
        "  return dataset"
      ]
    },
    {
      "cell_type": "markdown",
      "metadata": {
        "id": "xwl71eo5wRJe"
      },
      "source": [
        "It is expected that `windowed_dataset` convert a given array like `([[1],[2],[3],[4],[5]])` into `([[1],[2],[3],[4]],[[5]])` that the first part `[[1],[2],[3],[4]]` is considered as the input and `[[5]]` is the label of that. Let's make sure if it is working properly!"
      ]
    },
    {
      "cell_type": "code",
      "execution_count": 7,
      "metadata": {
        "colab": {
          "base_uri": "https://localhost:8080/"
        },
        "id": "bp7GAN60x1y-",
        "outputId": "9ac00431-ddf1-4c50-d68c-d3fce5d01335"
      },
      "outputs": [
        {
          "output_type": "stream",
          "name": "stdout",
          "text": [
            "(<tf.Tensor: shape=(1, 4, 1), dtype=int64, numpy=\n",
            "array([[[1],\n",
            "        [2],\n",
            "        [3],\n",
            "        [4]]])>, <tf.Tensor: shape=(1, 1, 1), dtype=int64, numpy=array([[[5]]])>)\n"
          ]
        }
      ],
      "source": [
        "sample_arr = np.array([[1],[2],[3],[4],[5]])\n",
        "\n",
        "a = windowed_dataset(sample_arr, window_size = 4, prediction_window = 1, batch_size = 32, shuffle_buffer = 10)\n",
        "\n",
        "for i in a:\n",
        "  print(i)"
      ]
    },
    {
      "cell_type": "markdown",
      "metadata": {
        "id": "9FZwToFX0bR_"
      },
      "source": [
        "Before feeding the `inp_arr` into the `windowed_dataset`, we need to split the dataset into train and validation sets. the first 80% of the dataset is used as the training set and the other 20% of that is used as validation set.\n",
        "\n",
        "Note that I set `window_size` to 100 and `prediction_window` to 1 which means the model has to predict the close price of a given position by analyzing the last 100 close prices before that specific price."
      ]
    },
    {
      "cell_type": "code",
      "execution_count": 8,
      "metadata": {
        "colab": {
          "base_uri": "https://localhost:8080/"
        },
        "id": "7LWNiiMK98nr",
        "outputId": "8408c37d-25f7-4498-d4a7-d0116e56dd5b"
      },
      "outputs": [
        {
          "output_type": "stream",
          "name": "stdout",
          "text": [
            "split time is: 33883\n",
            "shape of x_train (33883,)\n",
            "shape of x_valid (8471,)\n"
          ]
        }
      ],
      "source": [
        "split_time = int(0.8*len(inp_arr))\n",
        "print('split time is:',split_time)\n",
        "\n",
        "x_train = inp_arr[:split_time] \n",
        "x_valid = inp_arr[split_time:] \n",
        "\n",
        "print('shape of x_train',np.shape(x_train))\n",
        "print('shape of x_valid',np.shape(x_valid))\n",
        "\n",
        "window_size = 100\n",
        "prediction_window = 1\n",
        "batch_size = 32\n",
        "shuffle_buffer = 50000"
      ]
    },
    {
      "cell_type": "code",
      "execution_count": 9,
      "metadata": {
        "colab": {
          "base_uri": "https://localhost:8080/",
          "height": 545
        },
        "id": "FPIvxQ4F-D7e",
        "outputId": "6f33e226-90e4-482e-b642-2ee2886b1695"
      },
      "outputs": [
        {
          "output_type": "display_data",
          "data": {
            "text/plain": [
              "<Figure size 432x288 with 1 Axes>"
            ],
            "image/png": "[encoded data removed]"
          },
          "metadata": {
            "needs_background": "light"
          }
        },
        {
          "output_type": "display_data",
          "data": {
            "text/plain": [
              "<Figure size 432x288 with 1 Axes>"
            ],
            "image/png": "[encoded data removed]"
          },
          "metadata": {
            "needs_background": "light"
          }
        }
      ],
      "source": [
        "# Train and validation set visualization\n",
        "\n",
        "plt.plot(x_train)\n",
        "plt.title('Train Set')\n",
        "plt.ylabel('Close Price')\n",
        "plt.figure()\n",
        "plt.plot(x_valid)\n",
        "plt.title('Validation Set')\n",
        "plt.ylabel('Close Price')\n",
        "plt.show()"
      ]
    },
    {
      "cell_type": "markdown",
      "metadata": {
        "id": "cW6jVZ5s3pYe"
      },
      "source": [
        "I used standardization method to make values in the train set being 0-mean. "
      ]
    },
    {
      "cell_type": "code",
      "execution_count": 10,
      "metadata": {
        "colab": {
          "base_uri": "https://localhost:8080/",
          "height": 545
        },
        "id": "0PPhZqLm-Ha1",
        "outputId": "3eeb1998-e061-45ce-c05f-b11692155c28"
      },
      "outputs": [
        {
          "output_type": "display_data",
          "data": {
            "text/plain": [
              "<Figure size 432x288 with 1 Axes>"
            ],
            "image/png": "[encoded data removed]"
          },
          "metadata": {
            "needs_background": "light"
          }
        },
        {
          "output_type": "display_data",
          "data": {
            "text/plain": [
              "<Figure size 432x288 with 1 Axes>"
            ],
            "image/png": "[encoded data removed]"
          },
          "metadata": {
            "needs_background": "light"
          }
        }
      ],
      "source": [
        "std_scaler = StandardScaler()\n",
        "x_train_std = std_scaler.fit_transform(np.expand_dims(x_train, axis=-1))\n",
        "x_valid_std = std_scaler.transform(np.expand_dims(x_valid, axis=-1))\n",
        "\n",
        "plt.plot(x_train_std)\n",
        "plt.title('train_std values')\n",
        "plt.figure()\n",
        "plt.plot(x_valid_std)\n",
        "plt.title('valid_std values')\n",
        "plt.show()"
      ]
    },
    {
      "cell_type": "code",
      "execution_count": 11,
      "metadata": {
        "id": "NA1b5yNc-TEY"
      },
      "outputs": [],
      "source": [
        "dataset = windowed_dataset(x_train_std, window_size = window_size, prediction_window = prediction_window\n",
        "                           , batch_size = batch_size,shuffle_buffer = shuffle_buffer)"
      ]
    },
    {
      "cell_type": "markdown",
      "metadata": {
        "id": "vhghQdaL5q_p"
      },
      "source": [
        "Great! The dataset is completely ready to be fed into the model."
      ]
    },
    {
      "cell_type": "markdown",
      "metadata": {
        "id": "Rl9CJEji52tQ"
      },
      "source": [
        "## Model Structure"
      ]
    },
    {
      "cell_type": "code",
      "execution_count": 12,
      "metadata": {
        "id": "D1G9GAuJ-Uyp"
      },
      "outputs": [],
      "source": [
        "def biLSTM_model():\n",
        "    model = tf.keras.models.Sequential([\n",
        "    tf.keras.layers.Bidirectional(tf.keras.layers.LSTM(300,return_sequences=True,kernel_initializer='he_normal'),input_shape=(100 , 1)),\n",
        "    tf.keras.layers.Bidirectional(tf.keras.layers.LSTM(200 ,return_sequences=True,kernel_initializer = 'he_normal')),\n",
        "    tf.keras.layers.Bidirectional(tf.keras.layers.LSTM(100 ,return_sequences=True,kernel_initializer = 'he_normal')),\n",
        "    tf.keras.layers.Bidirectional(tf.keras.layers.LSTM(50 ,return_sequences=True,kernel_initializer = 'he_normal')),\n",
        "    tf.keras.layers.Dropout(0.2),\n",
        "    tf.keras.layers.TimeDistributed(tf.keras.layers.Dense(25,activation = 'selu',kernel_initializer = 'he_normal')),\n",
        "    tf.keras.layers.Flatten(),\n",
        "    tf.keras.layers.Dense(1)    \n",
        "])\n",
        "    return model"
      ]
    },
    {
      "cell_type": "code",
      "execution_count": 13,
      "metadata": {
        "colab": {
          "base_uri": "https://localhost:8080/"
        },
        "id": "dDgyEnIW-WoY",
        "outputId": "23196482-13ed-4cd9-ac23-95b8ad3d3712"
      },
      "outputs": [
        {
          "output_type": "stream",
          "name": "stdout",
          "text": [
            "Model: \"sequential\"\n",
            "_________________________________________________________________\n",
            " Layer (type)                Output Shape              Param #   \n",
            "=================================================================\n",
            " bidirectional (Bidirectiona  (None, 100, 600)         724800    \n",
            " l)                                                              \n",
            "                                                                 \n",
            " bidirectional_1 (Bidirectio  (None, 100, 400)         1281600   \n",
            " nal)                                                            \n",
            "                                                                 \n",
            " bidirectional_2 (Bidirectio  (None, 100, 200)         400800    \n",
            " nal)                                                            \n",
            "                                                                 \n",
            " bidirectional_3 (Bidirectio  (None, 100, 100)         100400    \n",
            " nal)                                                            \n",
            "                                                                 \n",
            " dropout (Dropout)           (None, 100, 100)          0         \n",
            "                                                                 \n",
            " time_distributed (TimeDistr  (None, 100, 25)          2525      \n",
            " ibuted)                                                         \n",
            "                                                                 \n",
            " flatten (Flatten)           (None, 2500)              0         \n",
            "                                                                 \n",
            " dense_1 (Dense)             (None, 1)                 2501      \n",
            "                                                                 \n",
            "=================================================================\n",
            "Total params: 2,512,626\n",
            "Trainable params: 2,512,626\n",
            "Non-trainable params: 0\n",
            "_________________________________________________________________\n"
          ]
        }
      ],
      "source": [
        "model = biLSTM_model()\n",
        "model.summary()"
      ]
    },
    {
      "cell_type": "markdown",
      "metadata": {
        "id": "1iwQMEZo57of"
      },
      "source": [
        "## Training Model"
      ]
    },
    {
      "cell_type": "code",
      "execution_count": 14,
      "metadata": {
        "id": "R17QXpIh-Y45"
      },
      "outputs": [],
      "source": [
        "model.compile(optimizer=tf.keras.optimizers.Adam(learning_rate=0.001) , loss='mae')"
      ]
    },
    {
      "cell_type": "code",
      "execution_count": 15,
      "metadata": {
        "colab": {
          "base_uri": "https://localhost:8080/"
        },
        "id": "osLtVaJ_-b-X",
        "outputId": "0ea20216-8c29-4e49-f2ea-7eea69ed7155"
      },
      "outputs": [
        {
          "output_type": "stream",
          "name": "stdout",
          "text": [
            "Epoch 1/100\n",
            "1056/1056 [==============================] - 67s 45ms/step - loss: 0.0977\n",
            "Epoch 2/100\n",
            "1056/1056 [==============================] - 52s 46ms/step - loss: 0.0363\n",
            "Epoch 3/100\n",
            "1056/1056 [==============================] - 53s 46ms/step - loss: 0.0312\n",
            "Epoch 4/100\n",
            "1056/1056 [==============================] - 52s 46ms/step - loss: 0.0298\n",
            "Epoch 5/100\n",
            "1056/1056 [==============================] - 52s 46ms/step - loss: 0.0271\n",
            "Epoch 6/100\n",
            "1056/1056 [==============================] - 54s 46ms/step - loss: 0.0258\n",
            "Epoch 7/100\n",
            "1056/1056 [==============================] - 53s 46ms/step - loss: 0.0257\n",
            "Epoch 8/100\n",
            "1056/1056 [==============================] - 53s 46ms/step - loss: 0.0236\n",
            "Epoch 9/100\n",
            "1056/1056 [==============================] - 53s 46ms/step - loss: 0.0232\n",
            "Epoch 10/100\n",
            "1056/1056 [==============================] - 53s 46ms/step - loss: 0.0223\n",
            "Epoch 11/100\n",
            "1056/1056 [==============================] - 53s 46ms/step - loss: 0.0220\n",
            "Epoch 12/100\n",
            "1056/1056 [==============================] - 54s 47ms/step - loss: 0.0212\n",
            "Epoch 13/100\n",
            "1056/1056 [==============================] - 54s 47ms/step - loss: 0.0212\n",
            "Epoch 14/100\n",
            "1056/1056 [==============================] - 55s 48ms/step - loss: 0.0211\n",
            "Epoch 15/100\n",
            "1056/1056 [==============================] - 53s 46ms/step - loss: 0.0199\n",
            "Epoch 16/100\n",
            "1056/1056 [==============================] - 55s 48ms/step - loss: 0.0207\n",
            "Epoch 17/100\n",
            "1056/1056 [==============================] - 53s 46ms/step - loss: 0.0198\n",
            "Epoch 18/100\n",
            "1056/1056 [==============================] - 54s 47ms/step - loss: 0.0195\n",
            "Epoch 19/100\n",
            "1056/1056 [==============================] - 54s 47ms/step - loss: 0.0196\n",
            "Epoch 20/100\n",
            "1056/1056 [==============================] - 54s 48ms/step - loss: 0.0190\n",
            "Epoch 21/100\n",
            "1056/1056 [==============================] - 54s 47ms/step - loss: 0.0191\n",
            "Epoch 22/100\n",
            "1056/1056 [==============================] - 53s 47ms/step - loss: 0.0191\n",
            "Epoch 23/100\n",
            "1056/1056 [==============================] - 54s 47ms/step - loss: 0.0186\n",
            "Epoch 24/100\n",
            "1056/1056 [==============================] - 53s 47ms/step - loss: 0.0187\n",
            "Epoch 25/100\n",
            "1056/1056 [==============================] - 54s 47ms/step - loss: 0.0185\n",
            "Epoch 26/100\n",
            "1056/1056 [==============================] - 54s 47ms/step - loss: 0.0184\n",
            "Epoch 27/100\n",
            "1056/1056 [==============================] - 54s 47ms/step - loss: 0.0183\n",
            "Epoch 28/100\n",
            "1056/1056 [==============================] - 54s 47ms/step - loss: 0.0180\n",
            "Epoch 29/100\n",
            "1056/1056 [==============================] - 53s 46ms/step - loss: 0.0183\n",
            "Epoch 30/100\n",
            "1056/1056 [==============================] - 54s 47ms/step - loss: 0.0180\n",
            "Epoch 31/100\n",
            "1056/1056 [==============================] - 53s 46ms/step - loss: 0.0180\n",
            "Epoch 32/100\n",
            "1056/1056 [==============================] - 53s 46ms/step - loss: 0.0179\n",
            "Epoch 33/100\n",
            "1056/1056 [==============================] - 53s 46ms/step - loss: 0.0177\n",
            "Epoch 34/100\n",
            "1056/1056 [==============================] - 54s 47ms/step - loss: 0.0174\n",
            "Epoch 35/100\n",
            "1056/1056 [==============================] - 54s 47ms/step - loss: 0.0178\n",
            "Epoch 36/100\n",
            "1056/1056 [==============================] - 53s 46ms/step - loss: 0.0174\n",
            "Epoch 37/100\n",
            "1056/1056 [==============================] - 54s 47ms/step - loss: 0.0186\n",
            "Epoch 38/100\n",
            "1056/1056 [==============================] - 54s 47ms/step - loss: 0.0183\n",
            "Epoch 39/100\n",
            "1056/1056 [==============================] - 53s 46ms/step - loss: 0.0177\n",
            "Epoch 40/100\n",
            "1056/1056 [==============================] - 54s 47ms/step - loss: 0.0174\n",
            "Epoch 41/100\n",
            "1056/1056 [==============================] - 53s 46ms/step - loss: 0.0174\n",
            "Epoch 42/100\n",
            "1056/1056 [==============================] - 54s 47ms/step - loss: 0.0173\n",
            "Epoch 43/100\n",
            "1056/1056 [==============================] - 53s 46ms/step - loss: 0.0174\n",
            "Epoch 44/100\n",
            "1056/1056 [==============================] - 53s 46ms/step - loss: 0.0167\n",
            "Epoch 45/100\n",
            "1056/1056 [==============================] - 54s 47ms/step - loss: 0.0170\n",
            "Epoch 46/100\n",
            "1056/1056 [==============================] - 54s 47ms/step - loss: 0.0169\n",
            "Epoch 47/100\n",
            "1056/1056 [==============================] - 53s 46ms/step - loss: 0.0170\n",
            "Epoch 48/100\n",
            "1056/1056 [==============================] - 53s 46ms/step - loss: 0.0166\n",
            "Epoch 49/100\n",
            "1056/1056 [==============================] - 54s 47ms/step - loss: 0.0166\n",
            "Epoch 50/100\n",
            "1056/1056 [==============================] - 54s 47ms/step - loss: 0.0165\n",
            "Epoch 51/100\n",
            "1056/1056 [==============================] - 53s 46ms/step - loss: 0.0167\n",
            "Epoch 52/100\n",
            "1056/1056 [==============================] - 53s 46ms/step - loss: 0.0166\n",
            "Epoch 53/100\n",
            "1056/1056 [==============================] - 54s 47ms/step - loss: 0.0165\n",
            "Epoch 54/100\n",
            "1056/1056 [==============================] - 54s 47ms/step - loss: 0.0164\n",
            "Epoch 55/100\n",
            "1056/1056 [==============================] - 54s 47ms/step - loss: 0.0165\n",
            "Epoch 56/100\n",
            "1056/1056 [==============================] - 54s 47ms/step - loss: 0.0167\n",
            "Epoch 57/100\n",
            "1056/1056 [==============================] - 54s 47ms/step - loss: 0.0167\n",
            "Epoch 58/100\n",
            "1056/1056 [==============================] - 53s 46ms/step - loss: 0.0164\n",
            "Epoch 59/100\n",
            "1056/1056 [==============================] - 53s 46ms/step - loss: 0.0175\n",
            "Epoch 60/100\n",
            "1056/1056 [==============================] - 54s 47ms/step - loss: 0.0173\n",
            "Epoch 61/100\n",
            "1056/1056 [==============================] - 53s 46ms/step - loss: 0.0177\n",
            "Epoch 62/100\n",
            "1056/1056 [==============================] - 53s 46ms/step - loss: 0.0173\n",
            "Epoch 63/100\n",
            "1056/1056 [==============================] - 54s 46ms/step - loss: 0.0170\n",
            "Epoch 64/100\n",
            "1056/1056 [==============================] - 54s 47ms/step - loss: 0.0169\n",
            "Epoch 65/100\n",
            "1056/1056 [==============================] - 54s 47ms/step - loss: 0.0170\n",
            "Epoch 66/100\n",
            "1056/1056 [==============================] - 53s 46ms/step - loss: 0.0164\n",
            "Epoch 67/100\n",
            "1056/1056 [==============================] - 53s 46ms/step - loss: 0.0165\n",
            "Epoch 68/100\n",
            "1056/1056 [==============================] - 54s 47ms/step - loss: 0.0164\n",
            "Epoch 69/100\n",
            "1056/1056 [==============================] - 54s 47ms/step - loss: 0.0164\n",
            "Epoch 70/100\n",
            "1056/1056 [==============================] - 53s 46ms/step - loss: 0.0164\n",
            "Epoch 71/100\n",
            "1056/1056 [==============================] - 53s 46ms/step - loss: 0.0163\n",
            "Epoch 72/100\n",
            "1056/1056 [==============================] - 54s 47ms/step - loss: 0.0163\n",
            "Epoch 73/100\n",
            "1056/1056 [==============================] - 53s 46ms/step - loss: 0.0162\n",
            "Epoch 74/100\n",
            "1056/1056 [==============================] - 53s 46ms/step - loss: 0.0163\n",
            "Epoch 75/100\n",
            "1056/1056 [==============================] - 55s 46ms/step - loss: 0.0162\n",
            "Epoch 76/100\n",
            "1056/1056 [==============================] - 54s 47ms/step - loss: 0.0162\n",
            "Epoch 77/100\n",
            "1056/1056 [==============================] - 53s 47ms/step - loss: 0.0162\n",
            "Epoch 78/100\n",
            "1056/1056 [==============================] - 53s 46ms/step - loss: 0.0161\n",
            "Epoch 79/100\n",
            "1056/1056 [==============================] - 54s 47ms/step - loss: 0.0159\n",
            "Epoch 80/100\n",
            "1056/1056 [==============================] - 54s 47ms/step - loss: 0.0158\n",
            "Epoch 81/100\n",
            "1056/1056 [==============================] - 53s 46ms/step - loss: 0.0159\n",
            "Epoch 82/100\n",
            "1056/1056 [==============================] - 53s 46ms/step - loss: 0.0157\n",
            "Epoch 83/100\n",
            "1056/1056 [==============================] - 54s 46ms/step - loss: 0.0160\n",
            "Epoch 84/100\n",
            "1056/1056 [==============================] - 53s 46ms/step - loss: 0.0157\n",
            "Epoch 85/100\n",
            "1056/1056 [==============================] - 53s 46ms/step - loss: 0.0158\n",
            "Epoch 86/100\n",
            "1056/1056 [==============================] - 54s 46ms/step - loss: 0.0158\n",
            "Epoch 87/100\n",
            "1056/1056 [==============================] - 54s 47ms/step - loss: 0.0158\n",
            "Epoch 88/100\n",
            "1056/1056 [==============================] - 53s 46ms/step - loss: 0.0158\n",
            "Epoch 89/100\n",
            "1056/1056 [==============================] - 55s 46ms/step - loss: 0.0156\n",
            "Epoch 90/100\n",
            "1056/1056 [==============================] - 54s 47ms/step - loss: 0.0157\n",
            "Epoch 91/100\n",
            "1056/1056 [==============================] - 53s 46ms/step - loss: 0.0154\n",
            "Epoch 92/100\n",
            "1056/1056 [==============================] - 53s 46ms/step - loss: 0.0155\n",
            "Epoch 93/100\n",
            "1056/1056 [==============================] - 54s 47ms/step - loss: 0.0156\n",
            "Epoch 94/100\n",
            "1056/1056 [==============================] - 54s 47ms/step - loss: 0.0155\n",
            "Epoch 95/100\n",
            "1056/1056 [==============================] - 53s 46ms/step - loss: 0.0156\n",
            "Epoch 96/100\n",
            "1056/1056 [==============================] - 53s 46ms/step - loss: 0.0156\n",
            "Epoch 97/100\n",
            "1056/1056 [==============================] - 54s 47ms/step - loss: 0.0155\n",
            "Epoch 98/100\n",
            "1056/1056 [==============================] - 53s 46ms/step - loss: 0.0155\n",
            "Epoch 99/100\n",
            "1056/1056 [==============================] - 53s 47ms/step - loss: 0.0153\n",
            "Epoch 100/100\n",
            "1056/1056 [==============================] - 53s 46ms/step - loss: 0.0155\n"
          ]
        }
      ],
      "source": [
        "history = model.fit(dataset, epochs = 100)"
      ]
    },
    {
      "cell_type": "markdown",
      "source": [
        "It can be beneficial if we take a look at the loss value changes"
      ],
      "metadata": {
        "id": "EeXTVKW-uaBw"
      }
    },
    {
      "cell_type": "code",
      "execution_count": 16,
      "metadata": {
        "colab": {
          "base_uri": "https://localhost:8080/",
          "height": 282
        },
        "id": "Ux1g2qdgQV0O",
        "outputId": "d6f4b573-e473-4154-b1e6-bf80a59c24e4"
      },
      "outputs": [
        {
          "output_type": "execute_result",
          "data": {
            "text/plain": [
              "[<matplotlib.lines.Line2D at 0x7f033f5f6610>]"
            ]
          },
          "metadata": {},
          "execution_count": 16
        },
        {
          "output_type": "display_data",
          "data": {
            "text/plain": [
              "<Figure size 432x288 with 1 Axes>"
            ],
            "image/png": "[encoded data removed]"
          },
          "metadata": {
            "needs_background": "light"
          }
        }
      ],
      "source": [
        "plt.plot(history.history['loss'])"
      ]
    },
    {
      "cell_type": "markdown",
      "metadata": {
        "id": "dRCIdSXP6O0f"
      },
      "source": [
        "## Results"
      ]
    },
    {
      "cell_type": "code",
      "execution_count": 17,
      "metadata": {
        "id": "ytcqGxqO-tnK"
      },
      "outputs": [],
      "source": [
        "# Chopping valid data\n",
        "\n",
        "valid_dataset =  windowed_dataset(x_valid_std, window_size = window_size, prediction_window = prediction_window\n",
        "                           , batch_size = batch_size,shuffle_buffer = shuffle_buffer)"
      ]
    },
    {
      "cell_type": "markdown",
      "source": [
        "We can evaluate the performance of our model on the validation dataset."
      ],
      "metadata": {
        "id": "6JVkqpEvu2c6"
      }
    },
    {
      "cell_type": "code",
      "execution_count": 18,
      "metadata": {
        "colab": {
          "base_uri": "https://localhost:8080/"
        },
        "id": "4Cd3otdE-vGa",
        "outputId": "86980e67-82e5-41d6-dd90-049178c54d67"
      },
      "outputs": [
        {
          "output_type": "stream",
          "name": "stdout",
          "text": [
            "262/262 [==============================] - 9s 20ms/step - loss: 0.1198\n"
          ]
        },
        {
          "output_type": "execute_result",
          "data": {
            "text/plain": [
              "0.11976853758096695"
            ]
          },
          "metadata": {},
          "execution_count": 18
        }
      ],
      "source": [
        "model.evaluate(valid_dataset)"
      ]
    },
    {
      "cell_type": "markdown",
      "source": [
        "The loss value for the valid set is much higher than its value for the train set. (0.1198 for valid and 0.0155 for train) It means that our model is overfitted and some actions must be done to address this problem. For instance, gathering more data or training the model for more epochs can be helpful. However, I will continue this overfitting model to the end to see the final results. Thus, in the next step, I predict the valid values with the prepared model."
      ],
      "metadata": {
        "id": "_Wg1PMJgvDDe"
      }
    },
    {
      "cell_type": "code",
      "execution_count": 19,
      "metadata": {
        "colab": {
          "base_uri": "https://localhost:8080/"
        },
        "id": "Iy0YC4cc-w87",
        "outputId": "fd81dccb-40e7-4f3f-c7a9-c04e1ce679c7"
      },
      "outputs": [
        {
          "output_type": "stream",
          "name": "stderr",
          "text": [
            "100%|██████████| 8371/8371 [09:21<00:00, 14.91it/s]\n"
          ]
        }
      ],
      "source": [
        "aa = []\n",
        "for i in tqdm(range(len(x_valid_std)-100)): #as the first 100 values are used for predicting the first predicted value\n",
        "  a = model.predict(np.reshape(x_valid_std[i:i+100], (1,100)))\n",
        "\n",
        "  aa.append(std_scaler.inverse_transform(a))"
      ]
    },
    {
      "cell_type": "code",
      "execution_count": 21,
      "metadata": {
        "id": "OnjJNYY76s93",
        "colab": {
          "base_uri": "https://localhost:8080/"
        },
        "outputId": "f6910c0c-0231-4fbc-f774-1450330e9471"
      },
      "outputs": [
        {
          "output_type": "execute_result",
          "data": {
            "text/plain": [
              "(8371,)"
            ]
          },
          "metadata": {},
          "execution_count": 21
        }
      ],
      "source": [
        "np.shape(aa)\n",
        "results = np.reshape(aa, (8371,))\n",
        "np.shape(results)"
      ]
    },
    {
      "cell_type": "markdown",
      "source": [
        "Now, the predicted values are ready and we can create a data frame containing both real and predicted values in order to compare them and find if they are close enough."
      ],
      "metadata": {
        "id": "XFNE0bzfw9AW"
      }
    },
    {
      "cell_type": "code",
      "execution_count": 24,
      "metadata": {
        "colab": {
          "base_uri": "https://localhost:8080/",
          "height": 206
        },
        "id": "azxSuufQQ2B2",
        "outputId": "ac9308de-a7c2-4d46-b5d6-7a36d92669b6"
      },
      "outputs": [
        {
          "output_type": "execute_result",
          "data": {
            "text/plain": [
              "    x_valid    predicted      diff\n",
              "0  1825.093  1826.912109  1.819109\n",
              "1  1825.393  1825.723022  0.330022\n",
              "2  1825.708  1826.001587  0.293587\n",
              "3  1825.718  1826.138184  0.420184\n",
              "4  1825.678  1826.152100  0.474100"
            ],
            "text/html": [
              "\n",
              "  <div id=\"df-b55df199-6398-4228-814d-61c86df2523e\">\n",
              "    <div class=\"colab-df-container\">\n",
              "      <div>\n",
              "<style scoped>\n",
              "    .dataframe tbody tr th:only-of-type {\n",
              "        vertical-align: middle;\n",
              "    }\n",
              "\n",
              "    .dataframe tbody tr th {\n",
              "        vertical-align: top;\n",
              "    }\n",
              "\n",
              "    .dataframe thead th {\n",
              "        text-align: right;\n",
              "    }\n",
              "</style>\n",
              "<table border=\"1\" class=\"dataframe\">\n",
              "  <thead>\n",
              "    <tr style=\"text-align: right;\">\n",
              "      <th></th>\n",
              "      <th>x_valid</th>\n",
              "      <th>predicted</th>\n",
              "      <th>diff</th>\n",
              "    </tr>\n",
              "  </thead>\n",
              "  <tbody>\n",
              "    <tr>\n",
              "      <th>0</th>\n",
              "      <td>1825.093</td>\n",
              "      <td>1826.912109</td>\n",
              "      <td>1.819109</td>\n",
              "    </tr>\n",
              "    <tr>\n",
              "      <th>1</th>\n",
              "      <td>1825.393</td>\n",
              "      <td>1825.723022</td>\n",
              "      <td>0.330022</td>\n",
              "    </tr>\n",
              "    <tr>\n",
              "      <th>2</th>\n",
              "      <td>1825.708</td>\n",
              "      <td>1826.001587</td>\n",
              "      <td>0.293587</td>\n",
              "    </tr>\n",
              "    <tr>\n",
              "      <th>3</th>\n",
              "      <td>1825.718</td>\n",
              "      <td>1826.138184</td>\n",
              "      <td>0.420184</td>\n",
              "    </tr>\n",
              "    <tr>\n",
              "      <th>4</th>\n",
              "      <td>1825.678</td>\n",
              "      <td>1826.152100</td>\n",
              "      <td>0.474100</td>\n",
              "    </tr>\n",
              "  </tbody>\n",
              "</table>\n",
              "</div>\n",
              "      <button class=\"colab-df-convert\" onclick=\"convertToInteractive('df-b55df199-6398-4228-814d-61c86df2523e')\"\n",
              "              title=\"Convert this dataframe to an interactive table.\"\n",
              "              style=\"display:none;\">\n",
              "        \n",
              "  <svg xmlns=\"http://www.w3.org/2000/svg\" height=\"24px\"viewBox=\"0 0 24 24\"\n",
              "       width=\"24px\">\n",
              "    <path d=\"M0 0h24v24H0V0z\" fill=\"none\"/>\n",
              "    <path d=\"M18.56 5.44l.94 2.06.94-2.06 2.06-.94-2.06-.94-.94-2.06-.94 2.06-2.06.94zm-11 1L8.5 8.5l.94-2.06 2.06-.94-2.06-.94L8.5 2.5l-.94 2.06-2.06.94zm10 10l.94 2.06.94-2.06 2.06-.94-2.06-.94-.94-2.06-.94 2.06-2.06.94z\"/><path d=\"M17.41 7.96l-1.37-1.37c-.4-.4-.92-.59-1.43-.59-.52 0-1.04.2-1.43.59L10.3 9.45l-7.72 7.72c-.78.78-.78 2.05 0 2.83L4 21.41c.39.39.9.59 1.41.59.51 0 1.02-.2 1.41-.59l7.78-7.78 2.81-2.81c.8-.78.8-2.07 0-2.86zM5.41 20L4 18.59l7.72-7.72 1.47 1.35L5.41 20z\"/>\n",
              "  </svg>\n",
              "      </button>\n",
              "      \n",
              "  <style>\n",
              "    .colab-df-container {\n",
              "      display:flex;\n",
              "      flex-wrap:wrap;\n",
              "      gap: 12px;\n",
              "    }\n",
              "\n",
              "    .colab-df-convert {\n",
              "      background-color: #E8F0FE;\n",
              "      border: none;\n",
              "      border-radius: 50%;\n",
              "      cursor: pointer;\n",
              "      display: none;\n",
              "      fill: #1967D2;\n",
              "      height: 32px;\n",
              "      padding: 0 0 0 0;\n",
              "      width: 32px;\n",
              "    }\n",
              "\n",
              "    .colab-df-convert:hover {\n",
              "      background-color: #E2EBFA;\n",
              "      box-shadow: 0px 1px 2px rgba(60, 64, 67, 0.3), 0px 1px 3px 1px rgba(60, 64, 67, 0.15);\n",
              "      fill: #174EA6;\n",
              "    }\n",
              "\n",
              "    [theme=dark] .colab-df-convert {\n",
              "      background-color: #3B4455;\n",
              "      fill: #D2E3FC;\n",
              "    }\n",
              "\n",
              "    [theme=dark] .colab-df-convert:hover {\n",
              "      background-color: #434B5C;\n",
              "      box-shadow: 0px 1px 3px 1px rgba(0, 0, 0, 0.15);\n",
              "      filter: drop-shadow(0px 1px 2px rgba(0, 0, 0, 0.3));\n",
              "      fill: #FFFFFF;\n",
              "    }\n",
              "  </style>\n",
              "\n",
              "      <script>\n",
              "        const buttonEl =\n",
              "          document.querySelector('#df-b55df199-6398-4228-814d-61c86df2523e button.colab-df-convert');\n",
              "        buttonEl.style.display =\n",
              "          google.colab.kernel.accessAllowed ? 'block' : 'none';\n",
              "\n",
              "        async function convertToInteractive(key) {\n",
              "          const element = document.querySelector('#df-b55df199-6398-4228-814d-61c86df2523e');\n",
              "          const dataTable =\n",
              "            await google.colab.kernel.invokeFunction('convertToInteractive',\n",
              "                                                     [key], {});\n",
              "          if (!dataTable) return;\n",
              "\n",
              "          const docLinkHtml = 'Like what you see? Visit the ' +\n",
              "            '<a target=\"_blank\" href=https://colab.research.google.com/notebooks/data_table.ipynb>data table notebook</a>'\n",
              "            + ' to learn more about interactive tables.';\n",
              "          element.innerHTML = '';\n",
              "          dataTable['output_type'] = 'display_data';\n",
              "          await google.colab.output.renderOutput(dataTable, element);\n",
              "          const docLink = document.createElement('div');\n",
              "          docLink.innerHTML = docLinkHtml;\n",
              "          element.appendChild(docLink);\n",
              "        }\n",
              "      </script>\n",
              "    </div>\n",
              "  </div>\n",
              "  "
            ]
          },
          "metadata": {},
          "execution_count": 24
        }
      ],
      "source": [
        "tmp_df = pd.DataFrame()\n",
        "tmp_df['x_valid'] = list(x_valid[100:])                           # real values column\n",
        "tmp_df['predicted'] = results                                     # predicted values column\n",
        "tmp_df['diff'] = np.abs(tmp_df['x_valid'] - tmp_df['predicted'])  # the difference between real and predicted values column\n",
        "tmp_df.head()"
      ]
    },
    {
      "cell_type": "markdown",
      "source": [
        "The data frame above shows that the model is performing perfectly in some cases and makes very few errors (for example row 2 has less than 3 pips error!). Although it is working poorly in some other cases. to have a comprehensive insight into how our model is performing, it can be advantageous to plot real and predicted values simultaneously."
      ],
      "metadata": {
        "id": "xJiFMsO2yZ9O"
      }
    },
    {
      "cell_type": "code",
      "execution_count": 35,
      "metadata": {
        "colab": {
          "base_uri": "https://localhost:8080/",
          "height": 265
        },
        "id": "o-4ZPjpEUFnb",
        "outputId": "bc048da0-2e3d-4e23-8533-e8757a14ccf4"
      },
      "outputs": [
        {
          "output_type": "display_data",
          "data": {
            "text/plain": [
              "<Figure size 432x288 with 1 Axes>"
            ],
            "image/png": "[encoded data removed]"
          },
          "metadata": {
            "needs_background": "light"
          }
        }
      ],
      "source": [
        "plt.plot(tmp_df['x_valid'], label = 'real values')\n",
        "plt.plot(tmp_df['predicted'],  label = 'predicted values')\n",
        "plt.legend()\n",
        "plt.show()"
      ]
    },
    {
      "cell_type": "markdown",
      "source": [
        "Wow! what a chart!\n",
        "\n",
        "This chart proves that the model is working properly in values that are closer to the train values (left part of the chart) and is getting worse as it gets farther than train values. It can be inferred that for better performance in farther values (right part of the chart) we need to retrain the model with a new train dataset which is a combination of the former train set and the left part of the validation dataset.\n",
        "\n",
        "To have a specific metric for assessment, I calculate the mean absolute percentage error. One for the whole dataset and another one for the values in the left part of the chart above (first 2000 values in the valid set!)"
      ],
      "metadata": {
        "id": "4d0__aqdz4cs"
      }
    },
    {
      "cell_type": "code",
      "execution_count": 31,
      "metadata": {
        "colab": {
          "base_uri": "https://localhost:8080/"
        },
        "id": "mAAgz42iTiGC",
        "outputId": "ff95f74c-dfdd-484c-ed5b-03760f24fb58"
      },
      "outputs": [
        {
          "output_type": "stream",
          "name": "stdout",
          "text": [
            "mean absolute percentage error for the whole validation set is: 0.3991188\n",
            "mean absolute percentage error for the first values in the validation set is: 0.045492448\n"
          ]
        }
      ],
      "source": [
        "mape = tf.keras.metrics.mean_absolute_percentage_error(np.array(tmp_df['x_valid']), np.array(tmp_df['predicted'])).numpy()\n",
        "l_mape = tf.keras.metrics.mean_absolute_percentage_error(np.array(tmp_df['x_valid'])[:2000], np.array(tmp_df['predicted'])[:2000]).numpy()\n",
        "\n",
        "print('mean absolute percentage error for the whole validation set is:', mape)\n",
        "print('mean absolute percentage error for the first values in the validation set is:', l_mape)"
      ]
    },
    {
      "cell_type": "markdown",
      "source": [
        "To sum up, the model trained here can predict the values near the training dataset very well! \n",
        "\n",
        "However, it does not mean that this model is a tool for real trading and everyone must take care of his considerations."
      ],
      "metadata": {
        "id": "AV6euM7I2SPV"
      }
    }
  ],
  "metadata": {
    "colab": {
      "collapsed_sections": [],
      "name": "eliminate_0s.ipynb",
      "provenance": []
    },
    "gpuClass": "standard",
    "kernelspec": {
      "display_name": "Python 3",
      "name": "python3"
    },
    "language_info": {
      "name": "python"
    },
    "accelerator": "GPU"
  },
  "nbformat": 4,
  "nbformat_minor": 0
}